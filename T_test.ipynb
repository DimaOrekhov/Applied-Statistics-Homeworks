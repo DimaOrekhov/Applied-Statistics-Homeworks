{
 "cells": [
  {
   "cell_type": "markdown",
   "metadata": {},
   "source": [
    "## Тест на однородность"
   ]
  },
  {
   "cell_type": "markdown",
   "metadata": {},
   "source": [
    "Импортируем необходимые модули"
   ]
  },
  {
   "cell_type": "code",
   "execution_count": 46,
   "metadata": {},
   "outputs": [],
   "source": [
    "import pandas as pd\n",
    "import numpy as np\n",
    "import matplotlib.pyplot as plt\n",
    "import scipy.stats as st\n",
    "import statsmodels.api as sm\n",
    "\n",
    "import warnings\n",
    "warnings.filterwarnings('ignore')"
   ]
  },
  {
   "cell_type": "markdown",
   "metadata": {},
   "source": [
    "Импортируем данные."
   ]
  },
  {
   "cell_type": "code",
   "execution_count": 5,
   "metadata": {},
   "outputs": [
    {
     "data": {
      "text/html": [
       "<div>\n",
       "<style scoped>\n",
       "    .dataframe tbody tr th:only-of-type {\n",
       "        vertical-align: middle;\n",
       "    }\n",
       "\n",
       "    .dataframe tbody tr th {\n",
       "        vertical-align: top;\n",
       "    }\n",
       "\n",
       "    .dataframe thead th {\n",
       "        text-align: right;\n",
       "    }\n",
       "</style>\n",
       "<table border=\"1\" class=\"dataframe\">\n",
       "  <thead>\n",
       "    <tr style=\"text-align: right;\">\n",
       "      <th></th>\n",
       "      <th>CompanyA1</th>\n",
       "      <th>CompanyA2</th>\n",
       "      <th>CompanyA3</th>\n",
       "      <th>CompanyB1</th>\n",
       "      <th>CompanyB2</th>\n",
       "      <th>CompanyB3</th>\n",
       "    </tr>\n",
       "  </thead>\n",
       "  <tbody>\n",
       "    <tr>\n",
       "      <th>Case1</th>\n",
       "      <td>9</td>\n",
       "      <td>8</td>\n",
       "      <td>1</td>\n",
       "      <td>1</td>\n",
       "      <td>3</td>\n",
       "      <td>8</td>\n",
       "    </tr>\n",
       "    <tr>\n",
       "      <th>Case2</th>\n",
       "      <td>6</td>\n",
       "      <td>8</td>\n",
       "      <td>0</td>\n",
       "      <td>6</td>\n",
       "      <td>8</td>\n",
       "      <td>9</td>\n",
       "    </tr>\n",
       "    <tr>\n",
       "      <th>Case3</th>\n",
       "      <td>7</td>\n",
       "      <td>5</td>\n",
       "      <td>9</td>\n",
       "      <td>6</td>\n",
       "      <td>6</td>\n",
       "      <td>0</td>\n",
       "    </tr>\n",
       "    <tr>\n",
       "      <th>Case4</th>\n",
       "      <td>7</td>\n",
       "      <td>2</td>\n",
       "      <td>8</td>\n",
       "      <td>6</td>\n",
       "      <td>4</td>\n",
       "      <td>0</td>\n",
       "    </tr>\n",
       "    <tr>\n",
       "      <th>Case5</th>\n",
       "      <td>9</td>\n",
       "      <td>6</td>\n",
       "      <td>6</td>\n",
       "      <td>7</td>\n",
       "      <td>5</td>\n",
       "      <td>2</td>\n",
       "    </tr>\n",
       "    <tr>\n",
       "      <th>Case6</th>\n",
       "      <td>6</td>\n",
       "      <td>8</td>\n",
       "      <td>3</td>\n",
       "      <td>4</td>\n",
       "      <td>2</td>\n",
       "      <td>3</td>\n",
       "    </tr>\n",
       "    <tr>\n",
       "      <th>Case7</th>\n",
       "      <td>7</td>\n",
       "      <td>7</td>\n",
       "      <td>0</td>\n",
       "      <td>5</td>\n",
       "      <td>0</td>\n",
       "      <td>4</td>\n",
       "    </tr>\n",
       "    <tr>\n",
       "      <th>Case8</th>\n",
       "      <td>6</td>\n",
       "      <td>1</td>\n",
       "      <td>8</td>\n",
       "      <td>4</td>\n",
       "      <td>2</td>\n",
       "      <td>6</td>\n",
       "    </tr>\n",
       "    <tr>\n",
       "      <th>Case9</th>\n",
       "      <td>7</td>\n",
       "      <td>8</td>\n",
       "      <td>1</td>\n",
       "      <td>6</td>\n",
       "      <td>8</td>\n",
       "      <td>9</td>\n",
       "    </tr>\n",
       "    <tr>\n",
       "      <th>Case10</th>\n",
       "      <td>2</td>\n",
       "      <td>3</td>\n",
       "      <td>1</td>\n",
       "      <td>5</td>\n",
       "      <td>5</td>\n",
       "      <td>4</td>\n",
       "    </tr>\n",
       "    <tr>\n",
       "      <th>Case11</th>\n",
       "      <td>6</td>\n",
       "      <td>9</td>\n",
       "      <td>5</td>\n",
       "      <td>8</td>\n",
       "      <td>9</td>\n",
       "      <td>5</td>\n",
       "    </tr>\n",
       "    <tr>\n",
       "      <th>Case12</th>\n",
       "      <td>9</td>\n",
       "      <td>7</td>\n",
       "      <td>0</td>\n",
       "      <td>4</td>\n",
       "      <td>9</td>\n",
       "      <td>0</td>\n",
       "    </tr>\n",
       "    <tr>\n",
       "      <th>Case13</th>\n",
       "      <td>5</td>\n",
       "      <td>8</td>\n",
       "      <td>6</td>\n",
       "      <td>6</td>\n",
       "      <td>0</td>\n",
       "      <td>2</td>\n",
       "    </tr>\n",
       "    <tr>\n",
       "      <th>Case14</th>\n",
       "      <td>7</td>\n",
       "      <td>8</td>\n",
       "      <td>5</td>\n",
       "      <td>7</td>\n",
       "      <td>1</td>\n",
       "      <td>5</td>\n",
       "    </tr>\n",
       "    <tr>\n",
       "      <th>Case15</th>\n",
       "      <td>6</td>\n",
       "      <td>3</td>\n",
       "      <td>0</td>\n",
       "      <td>4</td>\n",
       "      <td>6</td>\n",
       "      <td>9</td>\n",
       "    </tr>\n",
       "    <tr>\n",
       "      <th>Case16</th>\n",
       "      <td>5</td>\n",
       "      <td>7</td>\n",
       "      <td>2</td>\n",
       "      <td>6</td>\n",
       "      <td>3</td>\n",
       "      <td>1</td>\n",
       "    </tr>\n",
       "    <tr>\n",
       "      <th>Case17</th>\n",
       "      <td>3</td>\n",
       "      <td>9</td>\n",
       "      <td>5</td>\n",
       "      <td>7</td>\n",
       "      <td>1</td>\n",
       "      <td>6</td>\n",
       "    </tr>\n",
       "    <tr>\n",
       "      <th>Case18</th>\n",
       "      <td>2</td>\n",
       "      <td>2</td>\n",
       "      <td>2</td>\n",
       "      <td>4</td>\n",
       "      <td>3</td>\n",
       "      <td>8</td>\n",
       "    </tr>\n",
       "    <tr>\n",
       "      <th>Case19</th>\n",
       "      <td>9</td>\n",
       "      <td>2</td>\n",
       "      <td>1</td>\n",
       "      <td>7</td>\n",
       "      <td>5</td>\n",
       "      <td>7</td>\n",
       "    </tr>\n",
       "    <tr>\n",
       "      <th>Case20</th>\n",
       "      <td>7</td>\n",
       "      <td>9</td>\n",
       "      <td>3</td>\n",
       "      <td>3</td>\n",
       "      <td>2</td>\n",
       "      <td>7</td>\n",
       "    </tr>\n",
       "    <tr>\n",
       "      <th>Case21</th>\n",
       "      <td>5</td>\n",
       "      <td>7</td>\n",
       "      <td>5</td>\n",
       "      <td>2</td>\n",
       "      <td>5</td>\n",
       "      <td>5</td>\n",
       "    </tr>\n",
       "    <tr>\n",
       "      <th>Case22</th>\n",
       "      <td>7</td>\n",
       "      <td>1</td>\n",
       "      <td>2</td>\n",
       "      <td>6</td>\n",
       "      <td>7</td>\n",
       "      <td>1</td>\n",
       "    </tr>\n",
       "    <tr>\n",
       "      <th>Case23</th>\n",
       "      <td>3</td>\n",
       "      <td>0</td>\n",
       "      <td>1</td>\n",
       "      <td>7</td>\n",
       "      <td>4</td>\n",
       "      <td>1</td>\n",
       "    </tr>\n",
       "    <tr>\n",
       "      <th>Case24</th>\n",
       "      <td>5</td>\n",
       "      <td>4</td>\n",
       "      <td>5</td>\n",
       "      <td>6</td>\n",
       "      <td>1</td>\n",
       "      <td>6</td>\n",
       "    </tr>\n",
       "    <tr>\n",
       "      <th>Case25</th>\n",
       "      <td>9</td>\n",
       "      <td>8</td>\n",
       "      <td>8</td>\n",
       "      <td>3</td>\n",
       "      <td>2</td>\n",
       "      <td>2</td>\n",
       "    </tr>\n",
       "    <tr>\n",
       "      <th>Case26</th>\n",
       "      <td>9</td>\n",
       "      <td>1</td>\n",
       "      <td>1</td>\n",
       "      <td>7</td>\n",
       "      <td>1</td>\n",
       "      <td>9</td>\n",
       "    </tr>\n",
       "    <tr>\n",
       "      <th>Case27</th>\n",
       "      <td>8</td>\n",
       "      <td>4</td>\n",
       "      <td>5</td>\n",
       "      <td>8</td>\n",
       "      <td>4</td>\n",
       "      <td>1</td>\n",
       "    </tr>\n",
       "    <tr>\n",
       "      <th>Case28</th>\n",
       "      <td>5</td>\n",
       "      <td>8</td>\n",
       "      <td>1</td>\n",
       "      <td>8</td>\n",
       "      <td>1</td>\n",
       "      <td>8</td>\n",
       "    </tr>\n",
       "  </tbody>\n",
       "</table>\n",
       "</div>"
      ],
      "text/plain": [
       "        CompanyA1  CompanyA2  CompanyA3  CompanyB1  CompanyB2  CompanyB3\n",
       "Case1           9          8          1          1          3          8\n",
       "Case2           6          8          0          6          8          9\n",
       "Case3           7          5          9          6          6          0\n",
       "Case4           7          2          8          6          4          0\n",
       "Case5           9          6          6          7          5          2\n",
       "Case6           6          8          3          4          2          3\n",
       "Case7           7          7          0          5          0          4\n",
       "Case8           6          1          8          4          2          6\n",
       "Case9           7          8          1          6          8          9\n",
       "Case10          2          3          1          5          5          4\n",
       "Case11          6          9          5          8          9          5\n",
       "Case12          9          7          0          4          9          0\n",
       "Case13          5          8          6          6          0          2\n",
       "Case14          7          8          5          7          1          5\n",
       "Case15          6          3          0          4          6          9\n",
       "Case16          5          7          2          6          3          1\n",
       "Case17          3          9          5          7          1          6\n",
       "Case18          2          2          2          4          3          8\n",
       "Case19          9          2          1          7          5          7\n",
       "Case20          7          9          3          3          2          7\n",
       "Case21          5          7          5          2          5          5\n",
       "Case22          7          1          2          6          7          1\n",
       "Case23          3          0          1          7          4          1\n",
       "Case24          5          4          5          6          1          6\n",
       "Case25          9          8          8          3          2          2\n",
       "Case26          9          1          1          7          1          9\n",
       "Case27          8          4          5          8          4          1\n",
       "Case28          5          8          1          8          1          8"
      ]
     },
     "execution_count": 5,
     "metadata": {},
     "output_type": "execute_result"
    }
   ],
   "source": [
    "data=pd.read_excel('Companies.xls')\n",
    "data"
   ]
  },
  {
   "cell_type": "markdown",
   "metadata": {},
   "source": [
    "F-тест проверки равенства дисперсий:"
   ]
  },
  {
   "cell_type": "code",
   "execution_count": 63,
   "metadata": {},
   "outputs": [],
   "source": [
    "def f_test(vec_1, vec_2):\n",
    "    var_1=np.var(vec_1)\n",
    "    var_2=np.var(vec_2)\n",
    "    if var_1<var_2:\n",
    "        var_2, var_1=var_1, var_2\n",
    "    F=var_1/var_2\n",
    "    p_val=1-st.f.cdf(F, len(vec_1)-1, len(vec_2)-1)\n",
    "    return F, p_val"
   ]
  },
  {
   "cell_type": "markdown",
   "metadata": {},
   "source": [
    "Создадим таблицы результатов для F-теста и t-теста:"
   ]
  },
  {
   "cell_type": "code",
   "execution_count": 64,
   "metadata": {},
   "outputs": [],
   "source": [
    "A_comps=['CompanyA'+str(x) for x in range(1,4)]\n",
    "B_comps=['CompanyB'+str(x) for x in range(1,4)]\n",
    "\n",
    "tround=lambda x: np.round(x, decimals=3)\n",
    "\n",
    "f_result=pd.DataFrame(columns=A_comps, index=B_comps)\n",
    "t_result=pd.DataFrame(columns=A_comps, index=B_comps)\n",
    "for a_comp in A_comps:\n",
    "    for b_comp in B_comps:\n",
    "        f_stat, f_pval=f_test(data[a_comp], data[b_comp])\n",
    "        t_stat, t_pval=st.ttest_ind(data[a_comp], data[b_comp])\n",
    "        \n",
    "        f_result.loc[b_comp, a_comp]=('F-stat: '+str(tround(f_stat))+' p-val: '+str(tround(f_pval)))\n",
    "        t_result.loc[b_comp, a_comp]=('t-stat: '+str(tround(t_stat))+' p-val: '+str(tround(t_pval)))"
   ]
  },
  {
   "cell_type": "markdown",
   "metadata": {},
   "source": [
    "Среднее и смещенная дисперсия для каждой компании:"
   ]
  },
  {
   "cell_type": "code",
   "execution_count": 62,
   "metadata": {},
   "outputs": [
    {
     "data": {
      "text/html": [
       "<div>\n",
       "<style scoped>\n",
       "    .dataframe tbody tr th:only-of-type {\n",
       "        vertical-align: middle;\n",
       "    }\n",
       "\n",
       "    .dataframe tbody tr th {\n",
       "        vertical-align: top;\n",
       "    }\n",
       "\n",
       "    .dataframe thead th {\n",
       "        text-align: right;\n",
       "    }\n",
       "</style>\n",
       "<table border=\"1\" class=\"dataframe\">\n",
       "  <thead>\n",
       "    <tr style=\"text-align: right;\">\n",
       "      <th></th>\n",
       "      <th>CompanyA1</th>\n",
       "      <th>CompanyA2</th>\n",
       "      <th>CompanyA3</th>\n",
       "      <th>CompanyB1</th>\n",
       "      <th>CompanyB2</th>\n",
       "      <th>CompanyB3</th>\n",
       "    </tr>\n",
       "  </thead>\n",
       "  <tbody>\n",
       "    <tr>\n",
       "      <th>mean</th>\n",
       "      <td>6.285714</td>\n",
       "      <td>5.464286</td>\n",
       "      <td>3.357143</td>\n",
       "      <td>5.464286</td>\n",
       "      <td>3.821429</td>\n",
       "      <td>4.571429</td>\n",
       "    </tr>\n",
       "    <tr>\n",
       "      <th>var</th>\n",
       "      <td>4.359788</td>\n",
       "      <td>8.924603</td>\n",
       "      <td>8.015873</td>\n",
       "      <td>3.369048</td>\n",
       "      <td>7.337302</td>\n",
       "      <td>9.957672</td>\n",
       "    </tr>\n",
       "  </tbody>\n",
       "</table>\n",
       "</div>"
      ],
      "text/plain": [
       "      CompanyA1  CompanyA2  CompanyA3  CompanyB1  CompanyB2  CompanyB3\n",
       "mean   6.285714   5.464286   3.357143   5.464286   3.821429   4.571429\n",
       "var    4.359788   8.924603   8.015873   3.369048   7.337302   9.957672"
      ]
     },
     "execution_count": 62,
     "metadata": {},
     "output_type": "execute_result"
    }
   ],
   "source": [
    "data.describe().loc[['mean']].append(pd.Series([np.var(data[x], ddof=1) for x in data.columns], name='var', index=data.columns))"
   ]
  },
  {
   "cell_type": "markdown",
   "metadata": {},
   "source": [
    "Результаты F-теста:"
   ]
  },
  {
   "cell_type": "code",
   "execution_count": 65,
   "metadata": {},
   "outputs": [
    {
     "data": {
      "text/html": [
       "<div>\n",
       "<style scoped>\n",
       "    .dataframe tbody tr th:only-of-type {\n",
       "        vertical-align: middle;\n",
       "    }\n",
       "\n",
       "    .dataframe tbody tr th {\n",
       "        vertical-align: top;\n",
       "    }\n",
       "\n",
       "    .dataframe thead th {\n",
       "        text-align: right;\n",
       "    }\n",
       "</style>\n",
       "<table border=\"1\" class=\"dataframe\">\n",
       "  <thead>\n",
       "    <tr style=\"text-align: right;\">\n",
       "      <th></th>\n",
       "      <th>CompanyA1</th>\n",
       "      <th>CompanyA2</th>\n",
       "      <th>CompanyA3</th>\n",
       "    </tr>\n",
       "  </thead>\n",
       "  <tbody>\n",
       "    <tr>\n",
       "      <th>CompanyB1</th>\n",
       "      <td>F-stat: 1.294 p-val: 0.254</td>\n",
       "      <td>F-stat: 2.649 p-val: 0.007</td>\n",
       "      <td>F-stat: 2.379 p-val: 0.014</td>\n",
       "    </tr>\n",
       "    <tr>\n",
       "      <th>CompanyB2</th>\n",
       "      <td>F-stat: 1.683 p-val: 0.091</td>\n",
       "      <td>F-stat: 1.216 p-val: 0.307</td>\n",
       "      <td>F-stat: 1.092 p-val: 0.41</td>\n",
       "    </tr>\n",
       "    <tr>\n",
       "      <th>CompanyB3</th>\n",
       "      <td>F-stat: 2.284 p-val: 0.018</td>\n",
       "      <td>F-stat: 1.116 p-val: 0.389</td>\n",
       "      <td>F-stat: 1.242 p-val: 0.288</td>\n",
       "    </tr>\n",
       "  </tbody>\n",
       "</table>\n",
       "</div>"
      ],
      "text/plain": [
       "                            CompanyA1                   CompanyA2  \\\n",
       "CompanyB1  F-stat: 1.294 p-val: 0.254  F-stat: 2.649 p-val: 0.007   \n",
       "CompanyB2  F-stat: 1.683 p-val: 0.091  F-stat: 1.216 p-val: 0.307   \n",
       "CompanyB3  F-stat: 2.284 p-val: 0.018  F-stat: 1.116 p-val: 0.389   \n",
       "\n",
       "                            CompanyA3  \n",
       "CompanyB1  F-stat: 2.379 p-val: 0.014  \n",
       "CompanyB2   F-stat: 1.092 p-val: 0.41  \n",
       "CompanyB3  F-stat: 1.242 p-val: 0.288  "
      ]
     },
     "execution_count": 65,
     "metadata": {},
     "output_type": "execute_result"
    }
   ],
   "source": [
    "f_result"
   ]
  },
  {
   "cell_type": "markdown",
   "metadata": {},
   "source": [
    "Результаты t-теста:"
   ]
  },
  {
   "cell_type": "code",
   "execution_count": 66,
   "metadata": {},
   "outputs": [
    {
     "data": {
      "text/html": [
       "<div>\n",
       "<style scoped>\n",
       "    .dataframe tbody tr th:only-of-type {\n",
       "        vertical-align: middle;\n",
       "    }\n",
       "\n",
       "    .dataframe tbody tr th {\n",
       "        vertical-align: top;\n",
       "    }\n",
       "\n",
       "    .dataframe thead th {\n",
       "        text-align: right;\n",
       "    }\n",
       "</style>\n",
       "<table border=\"1\" class=\"dataframe\">\n",
       "  <thead>\n",
       "    <tr style=\"text-align: right;\">\n",
       "      <th></th>\n",
       "      <th>CompanyA1</th>\n",
       "      <th>CompanyA2</th>\n",
       "      <th>CompanyA3</th>\n",
       "    </tr>\n",
       "  </thead>\n",
       "  <tbody>\n",
       "    <tr>\n",
       "      <th>CompanyB1</th>\n",
       "      <td>t-stat: 1.563 p-val: 0.124</td>\n",
       "      <td>t-stat: 0.0 p-val: 1.0</td>\n",
       "      <td>t-stat: -3.305 p-val: 0.002</td>\n",
       "    </tr>\n",
       "    <tr>\n",
       "      <th>CompanyB2</th>\n",
       "      <td>t-stat: 3.813 p-val: 0.0</td>\n",
       "      <td>t-stat: 2.156 p-val: 0.036</td>\n",
       "      <td>t-stat: -0.627 p-val: 0.533</td>\n",
       "    </tr>\n",
       "    <tr>\n",
       "      <th>CompanyB3</th>\n",
       "      <td>t-stat: 2.397 p-val: 0.02</td>\n",
       "      <td>t-stat: 1.087 p-val: 0.282</td>\n",
       "      <td>t-stat: -1.516 p-val: 0.135</td>\n",
       "    </tr>\n",
       "  </tbody>\n",
       "</table>\n",
       "</div>"
      ],
      "text/plain": [
       "                            CompanyA1                   CompanyA2  \\\n",
       "CompanyB1  t-stat: 1.563 p-val: 0.124      t-stat: 0.0 p-val: 1.0   \n",
       "CompanyB2    t-stat: 3.813 p-val: 0.0  t-stat: 2.156 p-val: 0.036   \n",
       "CompanyB3   t-stat: 2.397 p-val: 0.02  t-stat: 1.087 p-val: 0.282   \n",
       "\n",
       "                             CompanyA3  \n",
       "CompanyB1  t-stat: -3.305 p-val: 0.002  \n",
       "CompanyB2  t-stat: -0.627 p-val: 0.533  \n",
       "CompanyB3  t-stat: -1.516 p-val: 0.135  "
      ]
     },
     "execution_count": 66,
     "metadata": {},
     "output_type": "execute_result"
    }
   ],
   "source": [
    "t_result"
   ]
  },
  {
   "cell_type": "markdown",
   "metadata": {},
   "source": [
    "Проанализировав результаты, выделим 3 группы сравнений (уровень значимости 0.05):\n",
    "\n",
    "**1.) Дисперсии равны, средние равны.**\n",
    "\n",
    "CompanyA1-CompanyB1\n",
    "\n",
    "CompanyA2-CompanyB3\n",
    "\n",
    "CompanyA3-CompanyB2\n",
    "\n",
    "CompanyA3-CompanyB3\n",
    "\n",
    "**2.) Дисперсии равны, средние различны**\n",
    "\n",
    "CompanyA1-CompanyB2\n",
    "\n",
    "CompanyA2-CompanyB2\n",
    "\n",
    "**3.) Дисперсии неравны, средние равны**\n",
    "\n",
    "CompanyA1-CompanyB3\n",
    "\n",
    "CompanyA3-CompanyB1\n",
    "\n",
    "Заметим, что в третьем случае мы не можем утверждать, что средние выборок равны, поскольку t-тест требует равенства дисперсий.\n",
    "\n",
    "Сравнение CompanyA2-CompanyB1 не вошло в данные группы, дисперсии здесь различны, но средние одинаковы."
   ]
  },
  {
   "cell_type": "markdown",
   "metadata": {},
   "source": [
    "## Boxplots для группы сравнений 1"
   ]
  },
  {
   "cell_type": "code",
   "execution_count": 110,
   "metadata": {},
   "outputs": [
    {
     "data": {
      "text/plain": [
       "0.77340995788971"
      ]
     },
     "execution_count": 110,
     "metadata": {},
     "output_type": "execute_result"
    }
   ],
   "source": [
    "1.96*st.sem(data['CompanyA1'])"
   ]
  },
  {
   "cell_type": "code",
   "execution_count": 146,
   "metadata": {},
   "outputs": [
    {
     "data": {
      "image/png": "[encoded data removed]",
      "text/plain": [
       "<matplotlib.figure.Figure at 0x7f398c3515f8>"
      ]
     },
     "metadata": {},
     "output_type": "display_data"
    }
   ],
   "source": [
    "import matplotlib.patches as ptch\n",
    "f, axarr=plt.subplots(2,2)\n",
    "f.set_size_inches([16, 16])\n",
    "axarr[0,0].boxplot([data['CompanyA1'], data['CompanyB1']], labels=['CompanyA1', 'CompanyB1'])\n",
    "axarr[0,0].set_title('CompanyA1 and CompanyB1')\n",
    "red_patch = ptch.Patch(color='w', label='p-val: 0.12')\n",
    "axarr[0,0].legend(handles=[red_patch], loc=1)\n",
    "\n",
    "axarr[0,1].boxplot([data['CompanyA2'], data['CompanyB3']], labels=['CompanyA2', 'CompanyB3'])\n",
    "axarr[0,1].set_title('CompanyA2 and CompanyB3')\n",
    "red_patch = ptch.Patch(color='w', label='p_val: 0.28')\n",
    "axarr[0,1].legend(handles=[red_patch], loc=1)\n",
    "\n",
    "axarr[1,0].boxplot([data['CompanyA3'], data['CompanyB2']], labels=['CompanyA3', 'CompanyB2'])\n",
    "axarr[1,0].set_title('CompanyA3 and CompanyB2')\n",
    "red_patch = ptch.Patch(color='w', label='p_val: 0.53')\n",
    "axarr[1,0].legend(handles=[red_patch], loc=1)\n",
    "\n",
    "axarr[1,1].boxplot([data['CompanyA3'], data['CompanyB3']], labels=['CompanyA3', 'CompanyB3'])\n",
    "_=axarr[1,1].set_title('CompanyA3 and CompanyB3')\n",
    "red_patch = ptch.Patch(color='w', label='p_val: 0.14')\n",
    "_=axarr[1,1].legend(handles=[red_patch], loc=1)"
   ]
  },
  {
   "cell_type": "markdown",
   "metadata": {},
   "source": [
    "На данных графиках усы простираются до последних значений, меньших, чем 1.5 межквантильных размаха от третьего выборочного квантиля вверх и от верхней границы первого выборочного квартиля вниз.\n",
    "\n",
    "Также приведены p-values для t-теста на равенство средних.\n",
    "\n",
    "Построим графики, где усы простираются на 1.96 стандартных ошибок среднего. Выборочное среднее распределено нормально. Площадь под кривой плотности нормального распределения на интервале [среднее-1.96*std, среднее+1.96*std] равна 0.95. Таким образом, строя усы от выборочного среднего на 1.96 его стандартных ошибок, мы получаем 95% доверительный интервал для среднего генеральной совокупности."
   ]
  },
  {
   "cell_type": "code",
   "execution_count": 152,
   "metadata": {},
   "outputs": [
    {
     "data": {
      "image/png": "[encoded data removed]",
      "text/plain": [
       "<matplotlib.figure.Figure at 0x7f398b98e128>"
      ]
     },
     "metadata": {},
     "output_type": "display_data"
    }
   ],
   "source": [
    "import matplotlib.patches as ptch\n",
    "f, axarr=plt.subplots(2,2)\n",
    "f.set_size_inches([16, 16])\n",
    "axarr[0,0].set_xlim(-1, 2)\n",
    "axarr[0,0].errorbar([0,1], [np.mean(data['CompanyA1']), np.mean(data['CompanyB1'])], \n",
    "                    yerr=[1.96*st.sem(data['CompanyA1']), 1.96*st.sem(data['CompanyB1'])])\n",
    "axarr[0,0].set_title('CompanyA1 and CompanyB1')\n",
    "red_patch = ptch.Patch(color='w', label='p-val: 0.12')\n",
    "axarr[0,0].legend(handles=[red_patch], loc=1)\n",
    "\n",
    "axarr[0,1].set_xlim(-1, 2)\n",
    "axarr[0,1].errorbar([0,1], [np.mean(data['CompanyA2']), np.mean(data['CompanyB3'])], \n",
    "                   yerr=[1.96*st.sem(data['CompanyA2']), 1.96*st.sem(data['CompanyB3'])])\n",
    "axarr[0,1].set_title('CompanyA2 and CompanyB3')\n",
    "red_patch = ptch.Patch(color='w', label='p_val: 0.28')\n",
    "axarr[0,1].legend(handles=[red_patch], loc=1)\n",
    "\n",
    "axarr[1,0].set_xlim(-1, 2)\n",
    "axarr[1,0].errorbar([0,1],[np.mean(data['CompanyA3']), np.mean(data['CompanyB2'])], \n",
    "                  yerr=[1.96*st.sem(data['CompanyA3']), 1.96*st.sem(data['CompanyB2'])])\n",
    "axarr[1,0].set_title('CompanyA3 and CompanyB2')\n",
    "red_patch = ptch.Patch(color='w', label='p_val: 0.53')\n",
    "axarr[1,0].legend(handles=[red_patch], loc=1)\n",
    "\n",
    "axarr[1,1].set_xlim(-1, 2)\n",
    "axarr[1,1].errorbar([0,1],[np.mean(data['CompanyA3']), np.mean(data['CompanyB3'])], \n",
    "                   yerr=[1.96*st.sem(data['CompanyA3']), 1.96*st.sem(data['CompanyB3'])])\n",
    "_=axarr[1,1].set_title('CompanyA3 and CompanyB3')\n",
    "red_patch = ptch.Patch(color='w', label='p_val: 0.14')\n",
    "_=axarr[1,1].legend(handles=[red_patch], loc=1)"
   ]
  },
  {
   "cell_type": "markdown",
   "metadata": {},
   "source": [
    "Видно, что средние выборок покрываются доверительными интервалами друг друга."
   ]
  },
  {
   "cell_type": "markdown",
   "metadata": {},
   "source": [
    "## Boxplots для группы сравнений 2"
   ]
  },
  {
   "cell_type": "code",
   "execution_count": 154,
   "metadata": {},
   "outputs": [
    {
     "data": {
      "image/png": "[encoded data removed]",
      "text/plain": [
       "<matplotlib.figure.Figure at 0x7f398b7c5470>"
      ]
     },
     "metadata": {},
     "output_type": "display_data"
    }
   ],
   "source": [
    "f, axarr=plt.subplots(1,2)\n",
    "f.set_size_inches([16, 8])\n",
    "axarr[0].boxplot([data['CompanyA1'], data['CompanyB2']], labels=['CompanyA1', 'CompanyB2'])\n",
    "axarr[0].set_title('CompanyA1 and CompanyB2')\n",
    "red_patch = ptch.Patch(color='w', label='p-val: 0.0')\n",
    "axarr[0].legend(handles=[red_patch], loc=1)\n",
    "\n",
    "axarr[1].boxplot([data['CompanyA2'], data['CompanyB2']], labels=['CompanyA2', 'CompanyB2'])\n",
    "_=axarr[1].set_title('CompanyA2 and CompanyB2')\n",
    "red_patch = ptch.Patch(color='w', label='p-val: 0.4')\n",
    "_=axarr[1].legend(handles=[red_patch], loc=1)"
   ]
  },
  {
   "cell_type": "markdown",
   "metadata": {},
   "source": [
    "Построим графики с доверительными интервалами:"
   ]
  },
  {
   "cell_type": "code",
   "execution_count": 156,
   "metadata": {},
   "outputs": [
    {
     "data": {
      "image/png": "[encoded data removed]",
      "text/plain": [
       "<matplotlib.figure.Figure at 0x7f398b599eb8>"
      ]
     },
     "metadata": {},
     "output_type": "display_data"
    }
   ],
   "source": [
    "f, axarr=plt.subplots(1,2)\n",
    "f.set_size_inches([16, 8])\n",
    "axarr[0].set_xlim([-1, 2])\n",
    "axarr[0].errorbar([0,1], [data['CompanyA1'].mean(), data['CompanyB2'].mean()], \n",
    "                  yerr=[1.96*st.sem(data['CompanyA1']), 1.96*st.sem(data['CompanyB2'])])\n",
    "axarr[0].set_title('CompanyA1 and CompanyB2')\n",
    "red_patch = ptch.Patch(color='w', label='p-val: 0.0')\n",
    "axarr[0].legend(handles=[red_patch], loc=1)\n",
    "\n",
    "axarr[1].set_xlim([-1, 2])\n",
    "axarr[1].errorbar([0,1], [data['CompanyA2'].mean(), data['CompanyB2'].mean()], \n",
    "                 yerr=[1.96*st.sem(data['CompanyA2']), 1.96*st.sem(data['CompanyB2'])])\n",
    "_=axarr[1].set_title('CompanyA2 and CompanyB2')\n",
    "red_patch = ptch.Patch(color='w', label='p-val: 0.4')\n",
    "_=axarr[1].legend(handles=[red_patch], loc=1)"
   ]
  },
  {
   "cell_type": "markdown",
   "metadata": {},
   "source": [
    "Здесь, средние не покрываются доверительными интервалами."
   ]
  },
  {
   "cell_type": "markdown",
   "metadata": {},
   "source": [
    "## Boxplots для группы сравнений 3"
   ]
  },
  {
   "cell_type": "code",
   "execution_count": 159,
   "metadata": {},
   "outputs": [
    {
     "data": {
      "image/png": "[encoded data removed]",
      "text/plain": [
       "<matplotlib.figure.Figure at 0x7f398b35d2e8>"
      ]
     },
     "metadata": {},
     "output_type": "display_data"
    }
   ],
   "source": [
    "f, axarr=plt.subplots(1,2)\n",
    "f.set_size_inches([16, 8])\n",
    "axarr[0].boxplot([data['CompanyA1'], data['CompanyB3']], labels=['CompanyA1', 'CompanyB3'])\n",
    "axarr[0].set_title('CompanyA1 and CompanyB3')\n",
    "red_patch = ptch.Patch(color='w', label='p-val: 0.018')\n",
    "axarr[0].legend(handles=[red_patch], loc=1)\n",
    "\n",
    "axarr[1].boxplot([data['CompanyA3'], data['CompanyB1']], labels=['CompanyA3', 'CompanyB1'])\n",
    "_=axarr[1].set_title('CompanyA3 and CompanyB1')\n",
    "red_patch = ptch.Patch(color='w', label='p-val: 0.014')\n",
    "_=axarr[1].legend(handles=[red_patch], loc=1)"
   ]
  },
  {
   "cell_type": "markdown",
   "metadata": {},
   "source": [
    "На данных графиках приведены p-values для F-теста, так как t-тест здесь не имеет смысла из-за различных дисперсий в выборках."
   ]
  },
  {
   "cell_type": "code",
   "execution_count": 160,
   "metadata": {},
   "outputs": [
    {
     "data": {
      "image/png": "[encoded data removed]",
      "text/plain": [
       "<matplotlib.figure.Figure at 0x7f398b231160>"
      ]
     },
     "metadata": {},
     "output_type": "display_data"
    }
   ],
   "source": [
    "f, axarr=plt.subplots(1,2)\n",
    "f.set_size_inches([16, 8])\n",
    "axarr[0].set_xlim([-1, 2])\n",
    "axarr[0].errorbar([0,1], [data['CompanyA1'].mean(), data['CompanyB3'].mean()], \n",
    "                  yerr=[1.96*st.sem(data['CompanyA1']), 1.96*st.sem(data['CompanyB3'])])\n",
    "axarr[0].set_title('CompanyA1 and CompanyB3')\n",
    "red_patch = ptch.Patch(color='w', label='p-val: 0.018')\n",
    "axarr[0].legend(handles=[red_patch], loc=1)\n",
    "\n",
    "axarr[1].set_xlim([-1, 2])\n",
    "axarr[1].errorbar([0,1], [data['CompanyA3'].mean(), data['CompanyB1'].mean()], \n",
    "                 yerr=[1.96*st.sem(data['CompanyA3']), 1.96*st.sem(data['CompanyB1'])])\n",
    "_=axarr[1].set_title('CompanyA3 and CompanyB1')\n",
    "red_patch = ptch.Patch(color='w', label='p-val: 0.014')\n",
    "_=axarr[1].legend(handles=[red_patch], loc=1)"
   ]
  }
 ],
 "metadata": {
  "kernelspec": {
   "display_name": "Python 3",
   "language": "python",
   "name": "python3"
  },
  "language_info": {
   "codemirror_mode": {
    "name": "ipython",
    "version": 3
   },
   "file_extension": ".py",
   "mimetype": "text/x-python",
   "name": "python",
   "nbconvert_exporter": "python",
   "pygments_lexer": "ipython3",
   "version": "3.6.4"
  }
 },
 "nbformat": 4,
 "nbformat_minor": 2
}
