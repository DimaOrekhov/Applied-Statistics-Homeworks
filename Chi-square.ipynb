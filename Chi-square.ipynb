{
 "cells": [
  {
   "cell_type": "code",
   "execution_count": 1,
   "metadata": {
    "collapsed": true
   },
   "outputs": [],
   "source": [
    "import numpy as np\n",
    "import pandas as pd\n",
    "import scipy.stats as st"
   ]
  },
  {
   "cell_type": "code",
   "execution_count": 4,
   "metadata": {
    "collapsed": true
   },
   "outputs": [],
   "source": [
    "#pd.read_excel('Homework/model_returns.xls')"
   ]
  },
  {
   "cell_type": "code",
   "execution_count": 7,
   "metadata": {
    "collapsed": true
   },
   "outputs": [],
   "source": [
    "eeg=np.loadtxt('Homework/EEG.txt')"
   ]
  },
  {
   "cell_type": "code",
   "execution_count": 2,
   "metadata": {
    "collapsed": true
   },
   "outputs": [],
   "source": [
    "def standartize(data):\n",
    "    std=data.std(ddof=1)\n",
    "    mean=data.mean()\n",
    "    z_scores=(data-mean)/std\n",
    "    return z_scores"
   ]
  },
  {
   "cell_type": "code",
   "execution_count": 16,
   "metadata": {
    "collapsed": true
   },
   "outputs": [],
   "source": [
    "z_eeg=standartize(eeg)"
   ]
  },
  {
   "cell_type": "code",
   "execution_count": 19,
   "metadata": {
    "collapsed": true
   },
   "outputs": [],
   "source": [
    "min=np.min(z_eeg)\n",
    "max=np.max(z_eeg)"
   ]
  },
  {
   "cell_type": "code",
   "execution_count": 46,
   "metadata": {},
   "outputs": [
    {
     "data": {
      "text/plain": [
       "array([-2.70781518, -2.18173978, -1.65566439, -1.12958899, -0.60351359,\n",
       "       -0.0774382 ,  0.4486372 ,  0.97471259,  1.50078799,  2.02686339,\n",
       "        2.55293878])"
      ]
     },
     "execution_count": 46,
     "metadata": {},
     "output_type": "execute_result"
    }
   ],
   "source": [
    "np.linspace(min, max, 11)"
   ]
  },
  {
   "cell_type": "code",
   "execution_count": 38,
   "metadata": {},
   "outputs": [
    {
     "data": {
      "text/plain": [
       "0.017003022647632787"
      ]
     },
     "execution_count": 38,
     "metadata": {},
     "output_type": "execute_result"
    }
   ],
   "source": [
    "st.norm.cdf(-2.12)"
   ]
  },
  {
   "cell_type": "code",
   "execution_count": 49,
   "metadata": {
    "collapsed": true
   },
   "outputs": [],
   "source": [
    "def chi_norm_test(data, intervals, stand=True):\n",
    "    if not stand: data=standartize(data)\n",
    "    \n",
    "    breaks=np.linspace(np.min(data), np.max(data), intervals+1)\n",
    "    areas=[]\n",
    "    chis=[]\n",
    "    for i in range(len(breaks[:-1])):\n",
    "        if i==0:\n",
    "            freq=len(data[data<breaks[i+1]])/len(data)\n",
    "            theoretical=st.norm.cdf(breaks[i+1])\n",
    "            areas.append(theoretical)\n",
    "            \n",
    "            chi=(freq-theoretical)**2/theoretical\n",
    "            chis.append(chi)\n",
    "        elif i==(len(breaks[:-1])-1):\n",
    "            freq=len(data[data>breaks[i]])/len(data)\n",
    "            theoretical=1-sum(areas)\n",
    "            \n",
    "            chi=(freq-theoretical)**2/theoretical\n",
    "            chis.append(chi)\n",
    "        else:\n",
    "            freq=len(data[np.logical_and(data>breaks[i], data<breaks[i+1])])/len(data)\n",
    "            #print(sum(areas))\n",
    "            theoretical=st.norm.cdf(breaks[i+1])-sum(areas)\n",
    "            areas.append(theoretical)\n",
    "            \n",
    "            chi=(freq-theoretical)**2/theoretical\n",
    "            chis.append(chi)\n",
    "        print(freq, theoretical, chi)\n",
    "    chi_stat=sum(chis)\n",
    "    df=intervals-2-1\n",
    "    p_val=1-st.chi2.cdf(chi_stat ,df)\n",
    "    return chi_stat, p_val"
   ]
  },
  {
   "cell_type": "code",
   "execution_count": 63,
   "metadata": {
    "collapsed": true
   },
   "outputs": [],
   "source": [
    "def chi_norm_test(data, intervals, stand=True):\n",
    "    if not stand: data=standartize(data)\n",
    "    \n",
    "    print(len(data))\n",
    "    breaks=np.linspace(np.min(data), np.max(data), intervals+1)\n",
    "    areas=[]\n",
    "    chis=[]\n",
    "    for i in range(len(breaks[:-1])):\n",
    "        if i==0:\n",
    "            freq=len(data[data<breaks[i+1]])\n",
    "            theoretical=(st.norm.cdf(breaks[i+1]))*len(data)\n",
    "            areas.append(theoretical/len(data))\n",
    "            \n",
    "            chi=(freq-theoretical)**2/theoretical\n",
    "            chis.append(chi)\n",
    "        elif i==(len(breaks[:-1])-1):\n",
    "            freq=len(data[data>breaks[i]])\n",
    "            theoretical=(1-sum(areas))*len(data)\n",
    "            \n",
    "            chi=(freq-theoretical)**2/theoretical/len(data)\n",
    "            chis.append(chi)\n",
    "        else:\n",
    "            freq=len(data[np.logical_and(data>breaks[i], data<breaks[i+1])])\n",
    "            theoretical=(st.norm.cdf(breaks[i+1])-sum(areas))*len(data)\n",
    "            areas.append(theoretical/len(data))\n",
    "            \n",
    "            chi=(freq-theoretical)**2/theoretical\n",
    "            chis.append(chi)\n",
    "        print(freq, theoretical, chi)\n",
    "    chi_stat=sum(chis)\n",
    "    df=intervals-2-1\n",
    "    p_val=1-st.chi2.cdf(chi_stat ,df)\n",
    "    return chi_stat, p_val"
   ]
  },
  {
   "cell_type": "code",
   "execution_count": 101,
   "metadata": {},
   "outputs": [
    {
     "data": {
      "text/plain": [
       "(0.026656789113462108, 0.999999976741737)"
      ]
     },
     "execution_count": 101,
     "metadata": {},
     "output_type": "execute_result"
    }
   ],
   "source": [
    "chi_norm_test(z_eeg, 10)"
   ]
  },
  {
   "cell_type": "code",
   "execution_count": 4,
   "metadata": {
    "collapsed": true
   },
   "outputs": [],
   "source": [
    "import matplotlib.pyplot as plt\n",
    "import seaborn as sns\n",
    "%matplotlib inline"
   ]
  },
  {
   "cell_type": "code",
   "execution_count": 103,
   "metadata": {},
   "outputs": [
    {
     "name": "stderr",
     "output_type": "stream",
     "text": [
      "C:\\Users\\Dmitry\\Anaconda3\\lib\\site-packages\\matplotlib\\axes\\_axes.py:6462: UserWarning: The 'normed' kwarg is deprecated, and has been replaced by the 'density' kwarg.\n",
      "  warnings.warn(\"The 'normed' kwarg is deprecated, and has been \"\n"
     ]
    },
    {
     "data": {
      "image/png": "[encoded data removed]",
      "text/plain": [
       "<Figure size 432x288 with 1 Axes>"
      ]
     },
     "metadata": {},
     "output_type": "display_data"
    }
   ],
   "source": [
    "sns.set()\n",
    "_=sns.distplot(z_eeg)\n",
    "plt.show()"
   ]
  },
  {
   "cell_type": "code",
   "execution_count": 6,
   "metadata": {
    "collapsed": true
   },
   "outputs": [],
   "source": [
    "model_stock=pd.read_excel('Homework/model_returns.xls')"
   ]
  },
  {
   "cell_type": "code",
   "execution_count": 23,
   "metadata": {
    "collapsed": true
   },
   "outputs": [],
   "source": [
    "stocks=pd.read_excel('Homework/Stocks.xls')"
   ]
  },
  {
   "cell_type": "code",
   "execution_count": 83,
   "metadata": {},
   "outputs": [
    {
     "data": {
      "text/html": [
       "<div>\n",
       "<style scoped>\n",
       "    .dataframe tbody tr th:only-of-type {\n",
       "        vertical-align: middle;\n",
       "    }\n",
       "\n",
       "    .dataframe tbody tr th {\n",
       "        vertical-align: top;\n",
       "    }\n",
       "\n",
       "    .dataframe thead th {\n",
       "        text-align: right;\n",
       "    }\n",
       "</style>\n",
       "<table border=\"1\" class=\"dataframe\">\n",
       "  <thead>\n",
       "    <tr style=\"text-align: right;\">\n",
       "      <th></th>\n",
       "      <th>AA</th>\n",
       "      <th>AA_ret</th>\n",
       "      <th>AXP</th>\n",
       "      <th>AXP_ret</th>\n",
       "      <th>BA</th>\n",
       "      <th>BA_ret</th>\n",
       "      <th>C</th>\n",
       "      <th>C_ret</th>\n",
       "      <th>CAT</th>\n",
       "      <th>CAT_ret</th>\n",
       "      <th>...</th>\n",
       "      <th>HD</th>\n",
       "      <th>HD_ret</th>\n",
       "      <th>HON</th>\n",
       "      <th>HON_ret</th>\n",
       "      <th>HPQ</th>\n",
       "      <th>HPQ_ret</th>\n",
       "      <th>IBM</th>\n",
       "      <th>IBM_ret</th>\n",
       "      <th>INTC</th>\n",
       "      <th>INTC_return</th>\n",
       "    </tr>\n",
       "  </thead>\n",
       "  <tbody>\n",
       "    <tr>\n",
       "      <th>0</th>\n",
       "      <td>14.97</td>\n",
       "      <td>0.043144</td>\n",
       "      <td>17.40</td>\n",
       "      <td>-0.002301</td>\n",
       "      <td>49.74</td>\n",
       "      <td>0.023839</td>\n",
       "      <td>14.22</td>\n",
       "      <td>0.013967</td>\n",
       "      <td>31.71</td>\n",
       "      <td>0.023684</td>\n",
       "      <td>...</td>\n",
       "      <td>9.96</td>\n",
       "      <td>-0.005033</td>\n",
       "      <td>15.07</td>\n",
       "      <td>-0.003989</td>\n",
       "      <td>12.02</td>\n",
       "      <td>0.008285</td>\n",
       "      <td>18.24</td>\n",
       "      <td>0.008734</td>\n",
       "      <td>3.96</td>\n",
       "      <td>-0.002528</td>\n",
       "    </tr>\n",
       "    <tr>\n",
       "      <th>1</th>\n",
       "      <td>15.63</td>\n",
       "      <td>-0.001921</td>\n",
       "      <td>17.36</td>\n",
       "      <td>0.011455</td>\n",
       "      <td>50.94</td>\n",
       "      <td>-0.001179</td>\n",
       "      <td>14.42</td>\n",
       "      <td>0.005533</td>\n",
       "      <td>32.47</td>\n",
       "      <td>0.004916</td>\n",
       "      <td>...</td>\n",
       "      <td>9.91</td>\n",
       "      <td>-0.006073</td>\n",
       "      <td>15.01</td>\n",
       "      <td>0.011262</td>\n",
       "      <td>12.12</td>\n",
       "      <td>-0.005792</td>\n",
       "      <td>18.40</td>\n",
       "      <td>-0.005450</td>\n",
       "      <td>3.95</td>\n",
       "      <td>0.007566</td>\n",
       "    </tr>\n",
       "    <tr>\n",
       "      <th>2</th>\n",
       "      <td>15.60</td>\n",
       "      <td>-0.005141</td>\n",
       "      <td>17.56</td>\n",
       "      <td>0.044006</td>\n",
       "      <td>50.88</td>\n",
       "      <td>-0.001180</td>\n",
       "      <td>14.50</td>\n",
       "      <td>-0.008310</td>\n",
       "      <td>32.63</td>\n",
       "      <td>0.003365</td>\n",
       "      <td>...</td>\n",
       "      <td>9.85</td>\n",
       "      <td>-0.003050</td>\n",
       "      <td>15.18</td>\n",
       "      <td>0.003288</td>\n",
       "      <td>12.05</td>\n",
       "      <td>0.018093</td>\n",
       "      <td>18.30</td>\n",
       "      <td>0.015185</td>\n",
       "      <td>3.98</td>\n",
       "      <td>0.012485</td>\n",
       "    </tr>\n",
       "    <tr>\n",
       "      <th>3</th>\n",
       "      <td>15.52</td>\n",
       "      <td>-0.001935</td>\n",
       "      <td>18.35</td>\n",
       "      <td>-0.008758</td>\n",
       "      <td>50.82</td>\n",
       "      <td>-0.009490</td>\n",
       "      <td>14.38</td>\n",
       "      <td>-0.002786</td>\n",
       "      <td>32.74</td>\n",
       "      <td>-0.003365</td>\n",
       "      <td>...</td>\n",
       "      <td>9.82</td>\n",
       "      <td>0.014156</td>\n",
       "      <td>15.23</td>\n",
       "      <td>-0.007249</td>\n",
       "      <td>12.27</td>\n",
       "      <td>0.011345</td>\n",
       "      <td>18.58</td>\n",
       "      <td>0.005368</td>\n",
       "      <td>4.03</td>\n",
       "      <td>0.014779</td>\n",
       "    </tr>\n",
       "    <tr>\n",
       "      <th>4</th>\n",
       "      <td>15.49</td>\n",
       "      <td>0.033019</td>\n",
       "      <td>18.19</td>\n",
       "      <td>0.002197</td>\n",
       "      <td>50.34</td>\n",
       "      <td>-0.001193</td>\n",
       "      <td>14.34</td>\n",
       "      <td>0.022070</td>\n",
       "      <td>32.63</td>\n",
       "      <td>0.013394</td>\n",
       "      <td>...</td>\n",
       "      <td>9.96</td>\n",
       "      <td>0.010984</td>\n",
       "      <td>15.12</td>\n",
       "      <td>0.018349</td>\n",
       "      <td>12.41</td>\n",
       "      <td>0.014400</td>\n",
       "      <td>18.68</td>\n",
       "      <td>0.014350</td>\n",
       "      <td>4.09</td>\n",
       "      <td>0.009732</td>\n",
       "    </tr>\n",
       "  </tbody>\n",
       "</table>\n",
       "<p>5 rows × 36 columns</p>\n",
       "</div>"
      ],
      "text/plain": [
       "      AA    AA_ret    AXP   AXP_ret     BA    BA_ret      C     C_ret    CAT  \\\n",
       "0  14.97  0.043144  17.40 -0.002301  49.74  0.023839  14.22  0.013967  31.71   \n",
       "1  15.63 -0.001921  17.36  0.011455  50.94 -0.001179  14.42  0.005533  32.47   \n",
       "2  15.60 -0.005141  17.56  0.044006  50.88 -0.001180  14.50 -0.008310  32.63   \n",
       "3  15.52 -0.001935  18.35 -0.008758  50.82 -0.009490  14.38 -0.002786  32.74   \n",
       "4  15.49  0.033019  18.19  0.002197  50.34 -0.001193  14.34  0.022070  32.63   \n",
       "\n",
       "    CAT_ret     ...         HD    HD_ret    HON   HON_ret    HPQ   HPQ_ret  \\\n",
       "0  0.023684     ...       9.96 -0.005033  15.07 -0.003989  12.02  0.008285   \n",
       "1  0.004916     ...       9.91 -0.006073  15.01  0.011262  12.12 -0.005792   \n",
       "2  0.003365     ...       9.85 -0.003050  15.18  0.003288  12.05  0.018093   \n",
       "3 -0.003365     ...       9.82  0.014156  15.23 -0.007249  12.27  0.011345   \n",
       "4  0.013394     ...       9.96  0.010984  15.12  0.018349  12.41  0.014400   \n",
       "\n",
       "     IBM   IBM_ret  INTC  INTC_return  \n",
       "0  18.24  0.008734  3.96    -0.002528  \n",
       "1  18.40 -0.005450  3.95     0.007566  \n",
       "2  18.30  0.015185  3.98     0.012485  \n",
       "3  18.58  0.005368  4.03     0.014779  \n",
       "4  18.68  0.014350  4.09     0.009732  \n",
       "\n",
       "[5 rows x 36 columns]"
      ]
     },
     "execution_count": 83,
     "metadata": {},
     "output_type": "execute_result"
    }
   ],
   "source": [
    "stocks.head()"
   ]
  },
  {
   "cell_type": "code",
   "execution_count": 82,
   "metadata": {},
   "outputs": [
    {
     "name": "stderr",
     "output_type": "stream",
     "text": [
      "C:\\Users\\Dmitry\\Anaconda3\\lib\\site-packages\\matplotlib\\axes\\_axes.py:6462: UserWarning: The 'normed' kwarg is deprecated, and has been replaced by the 'density' kwarg.\n",
      "  warnings.warn(\"The 'normed' kwarg is deprecated, and has been \"\n"
     ]
    },
    {
     "data": {
      "text/plain": [
       "<matplotlib.axes._subplots.AxesSubplot at 0x1b005c07630>"
      ]
     },
     "execution_count": 82,
     "metadata": {},
     "output_type": "execute_result"
    },
    {
     "data": {
      "image/png": "[encoded data removed]",
      "text/plain": [
       "<Figure size 432x288 with 1 Axes>"
      ]
     },
     "metadata": {},
     "output_type": "display_data"
    }
   ],
   "source": [
    "sns.distplot(stocks['AA_ret'].values[:-1])"
   ]
  },
  {
   "cell_type": "code",
   "execution_count": 55,
   "metadata": {
    "collapsed": true
   },
   "outputs": [],
   "source": [
    "AA_std=standartize(stocks['AA_ret'].values[:-1])"
   ]
  },
  {
   "cell_type": "code",
   "execution_count": 64,
   "metadata": {},
   "outputs": [
    {
     "name": "stdout",
     "output_type": "stream",
     "text": [
      "1352\n",
      "3 0.11371626928350025 73.2580643621897\n",
      "3 3.888620398601431 0.20306590303712024\n",
      "45 51.12273798639111 0.7332925020560507\n",
      "223 258.88999436594264 4.975440239558539\n",
      "602 510.505563169494 16.397925066591498\n",
      "355 394.1075480912471 3.8806674094836313\n",
      "99 118.85960617028095 3.318233754481984\n",
      "14 13.881567011090315 0.0010104315205102994\n",
      "5 0.6201168895691467 30.93509688853328\n",
      "3 0.010529648099790734 0.6277662340239367\n"
     ]
    },
    {
     "data": {
      "text/plain": [
       "(134.33056279147624, 0.0)"
      ]
     },
     "execution_count": 64,
     "metadata": {},
     "output_type": "execute_result"
    }
   ],
   "source": [
    "chi_norm_test(AA_std, 10)"
   ]
  },
  {
   "cell_type": "code",
   "execution_count": 62,
   "metadata": {},
   "outputs": [
    {
     "data": {
      "text/plain": [
       "75.92818181818181"
      ]
     },
     "execution_count": 62,
     "metadata": {},
     "output_type": "execute_result"
    }
   ],
   "source": [
    "(3-0.11)**2/0.11"
   ]
  },
  {
   "cell_type": "code",
   "execution_count": 69,
   "metadata": {},
   "outputs": [
    {
     "name": "stderr",
     "output_type": "stream",
     "text": [
      "C:\\Users\\Dmitry\\Anaconda3\\lib\\site-packages\\matplotlib\\axes\\_axes.py:6462: UserWarning: The 'normed' kwarg is deprecated, and has been replaced by the 'density' kwarg.\n",
      "  warnings.warn(\"The 'normed' kwarg is deprecated, and has been \"\n"
     ]
    },
    {
     "data": {
      "text/plain": [
       "<matplotlib.axes._subplots.AxesSubplot at 0x1952f2e0c88>"
      ]
     },
     "execution_count": 69,
     "metadata": {},
     "output_type": "execute_result"
    },
    {
     "data": {
      "image/png": "[encoded data removed]",
      "text/plain": [
       "<Figure size 432x288 with 1 Axes>"
      ]
     },
     "metadata": {},
     "output_type": "display_data"
    }
   ],
   "source": [
    "sns.distplot(standartize(stocks['CAT_ret'].values[:-1]))"
   ]
  },
  {
   "cell_type": "code",
   "execution_count": 68,
   "metadata": {},
   "outputs": [
    {
     "name": "stdout",
     "output_type": "stream",
     "text": [
      "1352\n",
      "2 0.005559045775525183 715.5535105324866\n",
      "2 0.32313676971735494 8.701796132744244\n",
      "10 7.668504715992285 0.7088566103394291\n",
      "57 74.52696926603437 4.12192599105888\n",
      "265 299.586677854959 3.992962215836099\n",
      "594 502.0258506156412 16.85021626795245\n",
      "320 351.856419799127 2.884220452756196\n",
      "79 102.9050370684495 5.55318586459312\n",
      "20 12.469288293571907 4.5481039069863165\n",
      "3 0.6325565707317571 0.006553648693720199\n"
     ]
    },
    {
     "data": {
      "text/plain": [
       "(762.921331623447, 0.0)"
      ]
     },
     "execution_count": 68,
     "metadata": {},
     "output_type": "execute_result"
    }
   ],
   "source": [
    "chi_norm_test(stocks['CAT_ret'].values[:-1], 10, stand=False)"
   ]
  },
  {
   "cell_type": "code",
   "execution_count": 114,
   "metadata": {},
   "outputs": [
    {
     "data": {
      "text/html": [
       "<div>\n",
       "<style scoped>\n",
       "    .dataframe tbody tr th:only-of-type {\n",
       "        vertical-align: middle;\n",
       "    }\n",
       "\n",
       "    .dataframe tbody tr th {\n",
       "        vertical-align: top;\n",
       "    }\n",
       "\n",
       "    .dataframe thead th {\n",
       "        text-align: right;\n",
       "    }\n",
       "</style>\n",
       "<table border=\"1\" class=\"dataframe\">\n",
       "  <thead>\n",
       "    <tr style=\"text-align: right;\">\n",
       "      <th></th>\n",
       "      <th>0.5_brown</th>\n",
       "      <th>0.5_noise</th>\n",
       "      <th>0.7_brown</th>\n",
       "      <th>0.7_noise</th>\n",
       "      <th>0.3_brown</th>\n",
       "      <th>0.3_noise</th>\n",
       "    </tr>\n",
       "  </thead>\n",
       "  <tbody>\n",
       "    <tr>\n",
       "      <th>1019</th>\n",
       "      <td>-0.779248</td>\n",
       "      <td>-0.047877</td>\n",
       "      <td>0.982814</td>\n",
       "      <td>0.009219</td>\n",
       "      <td>-1.151537</td>\n",
       "      <td>0.146106</td>\n",
       "    </tr>\n",
       "    <tr>\n",
       "      <th>1020</th>\n",
       "      <td>-0.827125</td>\n",
       "      <td>0.027235</td>\n",
       "      <td>0.992034</td>\n",
       "      <td>NaN</td>\n",
       "      <td>-1.005430</td>\n",
       "      <td>0.056902</td>\n",
       "    </tr>\n",
       "    <tr>\n",
       "      <th>1021</th>\n",
       "      <td>-0.799890</td>\n",
       "      <td>0.007225</td>\n",
       "      <td>NaN</td>\n",
       "      <td>NaN</td>\n",
       "      <td>-0.948529</td>\n",
       "      <td>NaN</td>\n",
       "    </tr>\n",
       "    <tr>\n",
       "      <th>1022</th>\n",
       "      <td>-0.792665</td>\n",
       "      <td>-0.009442</td>\n",
       "      <td>NaN</td>\n",
       "      <td>NaN</td>\n",
       "      <td>NaN</td>\n",
       "      <td>NaN</td>\n",
       "    </tr>\n",
       "    <tr>\n",
       "      <th>1023</th>\n",
       "      <td>-0.802107</td>\n",
       "      <td>NaN</td>\n",
       "      <td>NaN</td>\n",
       "      <td>NaN</td>\n",
       "      <td>NaN</td>\n",
       "      <td>NaN</td>\n",
       "    </tr>\n",
       "  </tbody>\n",
       "</table>\n",
       "</div>"
      ],
      "text/plain": [
       "      0.5_brown  0.5_noise  0.7_brown  0.7_noise  0.3_brown  0.3_noise\n",
       "1019  -0.779248  -0.047877   0.982814   0.009219  -1.151537   0.146106\n",
       "1020  -0.827125   0.027235   0.992034        NaN  -1.005430   0.056902\n",
       "1021  -0.799890   0.007225        NaN        NaN  -0.948529        NaN\n",
       "1022  -0.792665  -0.009442        NaN        NaN        NaN        NaN\n",
       "1023  -0.802107        NaN        NaN        NaN        NaN        NaN"
      ]
     },
     "execution_count": 114,
     "metadata": {},
     "output_type": "execute_result"
    }
   ],
   "source": [
    "model_stock.tail()"
   ]
  },
  {
   "cell_type": "code",
   "execution_count": 115,
   "metadata": {},
   "outputs": [
    {
     "name": "stderr",
     "output_type": "stream",
     "text": [
      "C:\\Users\\Dmitry\\Anaconda3\\lib\\site-packages\\matplotlib\\axes\\_axes.py:6462: UserWarning: The 'normed' kwarg is deprecated, and has been replaced by the 'density' kwarg.\n",
      "  warnings.warn(\"The 'normed' kwarg is deprecated, and has been \"\n"
     ]
    },
    {
     "data": {
      "text/plain": [
       "<matplotlib.axes._subplots.AxesSubplot at 0x1b00633bba8>"
      ]
     },
     "execution_count": 115,
     "metadata": {},
     "output_type": "execute_result"
    },
    {
     "data": {
      "image/png": "[encoded data removed]",
      "text/plain": [
       "<Figure size 432x288 with 1 Axes>"
      ]
     },
     "metadata": {},
     "output_type": "display_data"
    }
   ],
   "source": [
    "sns.distplot(model_stock['0.7_noise'].values[:-4])"
   ]
  },
  {
   "cell_type": "code",
   "execution_count": 65,
   "metadata": {},
   "outputs": [
    {
     "name": "stdout",
     "output_type": "stream",
     "text": [
      "1020\n",
      "13 9.867287088747116 0.9945884918583663\n",
      "36 38.0460537635619 0.11003338294693851\n",
      "108 111.19114752824872 0.09158483182719886\n",
      "219 212.37573198095495 0.20661930804823814\n",
      "247 265.21866582645634 1.251494812636141\n",
      "235 216.5884111315398 1.5651188486503653\n",
      "117 115.64764199722364 0.015814176027187477\n",
      "32 40.35745319981998 1.73070940927196\n",
      "8 9.198206501304636 0.1560846475413509\n",
      "5 1.50940098214295 0.007913983205473499\n"
     ]
    },
    {
     "data": {
      "text/plain": [
       "(6.12996189201322, 0.5246591107121024)"
      ]
     },
     "execution_count": 65,
     "metadata": {},
     "output_type": "execute_result"
    }
   ],
   "source": [
    "chi_norm_test(model_stock['0.7_noise'].values[:-4], 10, stand=False)"
   ]
  },
  {
   "cell_type": "code",
   "execution_count": 66,
   "metadata": {},
   "outputs": [
    {
     "name": "stdout",
     "output_type": "stream",
     "text": [
      "1023\n",
      "18 12.825023122475006 2.0881354697901076\n",
      "42 44.71139670070487 0.1644250148973168\n",
      "108 121.6525690052931 1.5321718395949366\n",
      "220 219.19353235161964 0.002967195523090652\n",
      "299 261.6350165451323 5.336219925828238\n",
      "191 206.90668185920782 1.2228823423992827\n",
      "98 108.39245605649279 0.9964083001297045\n",
      "31 37.600767274696246 1.158756370485604\n",
      "12 8.631776339614163 1.3143216621956728\n",
      "4 1.4507807447640482 0.004378617050282292\n",
      "(13.820666737894234, 0.05446446136697869)\n"
     ]
    },
    {
     "name": "stderr",
     "output_type": "stream",
     "text": [
      "C:\\Users\\Dmitry\\Anaconda3\\lib\\site-packages\\matplotlib\\axes\\_axes.py:6462: UserWarning: The 'normed' kwarg is deprecated, and has been replaced by the 'density' kwarg.\n",
      "  warnings.warn(\"The 'normed' kwarg is deprecated, and has been \"\n"
     ]
    },
    {
     "data": {
      "image/png": "[encoded data removed]",
      "text/plain": [
       "<Figure size 432x288 with 1 Axes>"
      ]
     },
     "metadata": {},
     "output_type": "display_data"
    }
   ],
   "source": [
    "_=sns.distplot(model_stock['0.5_noise'].values[:-1])\n",
    "print(chi_norm_test(model_stock['0.5_noise'].values[:-1], 10, stand=False))"
   ]
  },
  {
   "cell_type": "code",
   "execution_count": 67,
   "metadata": {},
   "outputs": [
    {
     "name": "stdout",
     "output_type": "stream",
     "text": [
      "1024\n",
      "25 15.366943782670605 6.038661519076738\n",
      "56 24.104786228490696 42.20343013570773\n",
      "50 48.608907456263125 0.039810367410160565\n",
      "103 83.56623527848069 4.519423544602629\n",
      "34 122.47749175124159 63.91596067700877\n",
      "64 153.03753394342084 51.802209866089086\n",
      "160 163.02689041688103 0.056199720011696375\n",
      "227 148.0611456704687 42.08627925065302\n",
      "174 114.64155653459329 30.73427225818139\n",
      "131 151.10850893748943 0.0026131892332150615\n",
      "(241.39886052797445, 0.0)\n"
     ]
    },
    {
     "name": "stderr",
     "output_type": "stream",
     "text": [
      "C:\\Users\\Dmitry\\Anaconda3\\lib\\site-packages\\matplotlib\\axes\\_axes.py:6462: UserWarning: The 'normed' kwarg is deprecated, and has been replaced by the 'density' kwarg.\n",
      "  warnings.warn(\"The 'normed' kwarg is deprecated, and has been \"\n"
     ]
    },
    {
     "data": {
      "image/png": "[encoded data removed]",
      "text/plain": [
       "<Figure size 432x288 with 1 Axes>"
      ]
     },
     "metadata": {},
     "output_type": "display_data"
    }
   ],
   "source": [
    "_=sns.distplot(model_stock['0.5_brown'])\n",
    "print(chi_norm_test(model_stock['0.5_brown'], 10, stand=False))"
   ]
  },
  {
   "cell_type": "code",
   "execution_count": 22,
   "metadata": {},
   "outputs": [
    {
     "name": "stderr",
     "output_type": "stream",
     "text": [
      "C:\\Users\\Dmitry\\Anaconda3\\lib\\site-packages\\matplotlib\\axes\\_axes.py:6462: UserWarning: The 'normed' kwarg is deprecated, and has been replaced by the 'density' kwarg.\n",
      "  warnings.warn(\"The 'normed' kwarg is deprecated, and has been \"\n"
     ]
    },
    {
     "data": {
      "text/plain": [
       "<matplotlib.axes._subplots.AxesSubplot at 0x1952fe51048>"
      ]
     },
     "execution_count": 22,
     "metadata": {},
     "output_type": "execute_result"
    },
    {
     "data": {
      "image/png": "[encoded data removed]",
      "text/plain": [
       "<Figure size 432x288 with 1 Axes>"
      ]
     },
     "metadata": {},
     "output_type": "display_data"
    }
   ],
   "source": [
    "sns.distplot(standartize((model_stock['0.5_brown'])))"
   ]
  },
  {
   "cell_type": "code",
   "execution_count": 45,
   "metadata": {},
   "outputs": [
    {
     "name": "stdout",
     "output_type": "stream",
     "text": [
      "0.04360679970436068 0.09999410422615906 0.031797155800734105\n",
      "0.1729490022172949 0.03520723108577539 0.538889169336392\n",
      "0.10643015521064302 0.042884021765707214 0.09416353479772549\n",
      "0.07982261640798226 0.05058379134169588 0.01690084646842596\n",
      "0.018477457501847747 0.057780261023531454 0.026734222679177203\n",
      "0.0029563932002956393 0.06391457274826007 0.058138535454780545\n",
      "0.011086474501108648 0.06846562255822053 0.0480878798547441\n",
      "0.014781966001478197 0.07102275619312087 0.0445353947230611\n",
      "0.016260162601626018 0.0713468454757536 0.042532260674453426\n",
      "0.06356245380635625 0.06940716794304036 0.0004921780322111594\n",
      "0.08130081300813008 0.06538620966582842 0.0038735170739704664\n",
      "0.07686622320768663 0.05965135111169806 0.004968065530088709\n",
      "0.06208425720620843 0.052699522428544254 0.0016712342501114454\n",
      "0.06577974870657798 0.04508637632759893 0.009497673028847235\n",
      "0.050997782705099776 0.03735392327844311 0.00498354345985921\n",
      "0.06651884700665188 0.029969488393322807 0.0445738544987428\n",
      "0.03547671840354767 0.023284913313210587 0.006383537244110717\n",
      "0.016260162601626018 0.017519515064809976 9.052582909176003e-05\n",
      "0.008130081300813009 0.0127650247521921 0.0016829345194800942\n",
      "0.004434589800443459 0.02567730130308732 0.017573996062051168\n"
     ]
    },
    {
     "data": {
      "text/plain": [
       "(0.9975700593180583, 0.9999999854678684)"
      ]
     },
     "execution_count": 45,
     "metadata": {},
     "output_type": "execute_result"
    }
   ],
   "source": [
    "chi_norm_test(stocks['AA'],20, stand=False)"
   ]
  },
  {
   "cell_type": "code",
   "execution_count": 43,
   "metadata": {},
   "outputs": [
    {
     "data": {
      "text/plain": [
       "0.01005226472609227"
      ]
     },
     "execution_count": 43,
     "metadata": {},
     "output_type": "execute_result"
    }
   ],
   "source": [
    "(0.021433850702143386-0.12169483377179152)**2"
   ]
  },
  {
   "cell_type": "code",
   "execution_count": 30,
   "metadata": {},
   "outputs": [
    {
     "data": {
      "text/plain": [
       "(array([295., 253.,  29.,  35., 108., 214., 173., 159.,  70.,  17.]),\n",
       " array([-1.4610346 , -1.10213572, -0.74323685, -0.38433798, -0.0254391 ,\n",
       "         0.33345977,  0.69235865,  1.05125752,  1.41015639,  1.76905527,\n",
       "         2.12795414]),\n",
       " <a list of 10 Patch objects>)"
      ]
     },
     "execution_count": 30,
     "metadata": {},
     "output_type": "execute_result"
    },
    {
     "data": {
      "image/png": "[encoded data removed]",
      "text/plain": [
       "<Figure size 432x288 with 1 Axes>"
      ]
     },
     "metadata": {},
     "output_type": "display_data"
    }
   ],
   "source": [
    "plt.hist(standartize(stocks['AA']))"
   ]
  },
  {
   "cell_type": "code",
   "execution_count": null,
   "metadata": {
    "collapsed": true
   },
   "outputs": [],
   "source": []
  }
 ],
 "metadata": {
  "kernelspec": {
   "display_name": "Python 3",
   "language": "python",
   "name": "python3"
  },
  "language_info": {
   "codemirror_mode": {
    "name": "ipython",
    "version": 3
   },
   "file_extension": ".py",
   "mimetype": "text/x-python",
   "name": "python",
   "nbconvert_exporter": "python",
   "pygments_lexer": "ipython3",
   "version": "3.6.2"
  }
 },
 "nbformat": 4,
 "nbformat_minor": 2
}
