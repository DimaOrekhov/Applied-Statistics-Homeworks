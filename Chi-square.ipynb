{
 "cells": [
  {
   "cell_type": "markdown",
   "metadata": {},
   "source": [
    "## Критерий Хи-Квадрат\n",
    "\n",
    "Импортируем необходимые модули:\n",
    "\n",
    "**numpy** - для работы с численными массивами данных\n",
    "\n",
    "**pandas** - для работы с данными, представленными в табличном виде\n",
    "\n",
    "**модуль scipy.stats** - для работы с распределениями\n",
    "\n",
    "**моудли matplotlib.pyplot и seaborn** - для визуализации данных"
   ]
  },
  {
   "cell_type": "code",
   "execution_count": 23,
   "metadata": {},
   "outputs": [],
   "source": [
    "import numpy as np\n",
    "import pandas as pd\n",
    "import scipy.stats as st\n",
    "import matplotlib.pyplot as plt\n",
    "import seaborn as sns\n",
    "%matplotlib inline"
   ]
  },
  {
   "cell_type": "markdown",
   "metadata": {},
   "source": [
    "Импортируем данные ЭЭГ."
   ]
  },
  {
   "cell_type": "code",
   "execution_count": 5,
   "metadata": {},
   "outputs": [],
   "source": [
    "eeg=np.loadtxt('Homework/data/EEG.txt')"
   ]
  },
  {
   "cell_type": "markdown",
   "metadata": {},
   "source": [
    "Напишем функцию для приведения распределений к стандартному, со средним равным 0 и дисперсией равной 1."
   ]
  },
  {
   "cell_type": "code",
   "execution_count": 6,
   "metadata": {},
   "outputs": [],
   "source": [
    "def standartize(data):\n",
    "    std=data.std(ddof=1)\n",
    "    mean=data.mean()\n",
    "    z_scores=(data-mean)/std\n",
    "    return z_scores"
   ]
  },
  {
   "cell_type": "code",
   "execution_count": 7,
   "metadata": {},
   "outputs": [],
   "source": [
    "z_eeg=standartize(eeg)"
   ]
  },
  {
   "cell_type": "markdown",
   "metadata": {},
   "source": [
    "Напишем функцию, расчитывающую значение критерия Хи-квадрат для проверки распределения на нормальность."
   ]
  },
  {
   "cell_type": "code",
   "execution_count": 199,
   "metadata": {},
   "outputs": [],
   "source": [
    "def chi_norm_test(data, intervals, stand=True, verbose=True, df_thr=15):\n",
    "    if not stand: data=standartize(data)\n",
    "    \n",
    "    #print(len(data))\n",
    "    breaks=np.linspace(np.min(data), np.max(data), intervals+1)\n",
    "    areas=[]\n",
    "    chis=[]\n",
    "    res=[]\n",
    "    for i in range(len(breaks[:-1])):\n",
    "        if i==0:\n",
    "            freq=len(data[data<breaks[i+1]])\n",
    "            theoretical=(st.norm.cdf(breaks[i+1]))*len(data)\n",
    "            areas.append(theoretical/len(data))\n",
    "            \n",
    "            chi=(freq-theoretical)**2/theoretical\n",
    "            chis.append(chi)\n",
    "        elif i==(len(breaks[:-1])-1):\n",
    "            freq=len(data[data>breaks[i]])\n",
    "            theoretical=(1-sum(areas))*len(data)\n",
    "            \n",
    "            chi=(freq-theoretical)**2/theoretical/len(data)\n",
    "            chis.append(chi)\n",
    "        else:\n",
    "            freq=len(data[np.logical_and(data>breaks[i], data<breaks[i+1])])\n",
    "            theoretical=(st.norm.cdf(breaks[i+1])-sum(areas))*len(data)\n",
    "            areas.append(theoretical/len(data))\n",
    "            \n",
    "            chi=(freq-theoretical)**2/theoretical\n",
    "            chis.append(chi)\n",
    "        res.append([freq, theoretical, chi])\n",
    "    res_df=pd.DataFrame(res, columns=['Observed', 'Theoretical', 'Chi_term'], index=list(range(1,intervals+1)))\n",
    "    res_df.index.name='Interval'\n",
    "    chi_stat=sum(chis)\n",
    "    df=intervals-2-1\n",
    "    p_val=1-st.chi2.cdf(chi_stat ,df)\n",
    "    if verbose:\n",
    "        if intervals<=df_thr:\n",
    "            print(res_df)\n",
    "        print(' ')\n",
    "        print('Chi-statistic:', chi_stat, 'p-value:', p_val)\n",
    "    return chi_stat, p_val, res_df"
   ]
  },
  {
   "cell_type": "markdown",
   "metadata": {},
   "source": [
    "Протестируем функцию на сгенерированном нормальном распределении из десяти тысяч наблюдений:"
   ]
  },
  {
   "cell_type": "code",
   "execution_count": 200,
   "metadata": {},
   "outputs": [
    {
     "name": "stdout",
     "output_type": "stream",
     "text": [
      " \n",
      "Chi-statistic: 1000.2420735937474 p-value: 0.46515627058142384\n"
     ]
    }
   ],
   "source": [
    "_=chi_norm_test(np.random.randn(10000,1), intervals=1000)"
   ]
  },
  {
   "cell_type": "markdown",
   "metadata": {},
   "source": [
    "p-value=0.46, то есть нулевая гипотеза о нормальности распределения не отвергается, как и должно быть."
   ]
  },
  {
   "cell_type": "markdown",
   "metadata": {},
   "source": [
    "Посмотрим, как выглядит распределение значений сигнала ЭЭГ."
   ]
  },
  {
   "cell_type": "code",
   "execution_count": 201,
   "metadata": {},
   "outputs": [
    {
     "data": {
      "image/png": "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\n",
      "text/plain": [
       "<matplotlib.figure.Figure at 0x7f347f1107b8>"
      ]
     },
     "metadata": {},
     "output_type": "display_data"
    }
   ],
   "source": [
    "sns.set()\n",
    "_=sns.distplot(z_eeg)\n",
    "plt.show()"
   ]
  },
  {
   "cell_type": "code",
   "execution_count": 202,
   "metadata": {},
   "outputs": [
    {
     "name": "stdout",
     "output_type": "stream",
     "text": [
      "          Observed  Theoretical   Chi_term\n",
      "Interval                                  \n",
      "1               33    21.846557   5.694228\n",
      "2               65    51.495795   3.541329\n",
      "3              116   120.644737   0.178819\n",
      "4              161   215.638217  13.844182\n",
      "5              282   294.080910   0.496286\n",
      "6              335   306.023738   2.743656\n",
      "7              254   242.992913   0.498599\n",
      "8              165   147.219329   2.147492\n",
      "9               75    68.050515   0.709698\n",
      "10              14    32.007289   0.006754\n",
      " \n",
      "Chi-statistic: 29.861043051628673 p-value: 0.00010069711338778209\n"
     ]
    }
   ],
   "source": [
    "_=chi_norm_test(z_eeg, 10)"
   ]
  },
  {
   "cell_type": "markdown",
   "metadata": {},
   "source": [
    "Написанная функция выводит для каждого интвервала фактическое количество наблюдений, попавшего в него, ожидаемое количество для нормального распределения и вклад данного интервала в общий показатель Хи-квадрат статистики.\n",
    "\n",
    "Согласно расчету, значения сигнала ЭЭГ распределены не нормально, вероятность получить такие или еще более выраженные отклонения, при условии верности гипотезы 1 о нормальности распределения 0.0001."
   ]
  },
  {
   "cell_type": "markdown",
   "metadata": {},
   "source": [
    "# Анализ финансовых временных рядов\n",
    "\n",
    "Импортируем финансовые данные:"
   ]
  },
  {
   "cell_type": "code",
   "execution_count": 203,
   "metadata": {},
   "outputs": [],
   "source": [
    "model_stock=pd.read_excel('Homework/data/model_returns.xls')\n",
    "stocks=pd.read_excel('Homework/data/Stocks.xls')"
   ]
  },
  {
   "cell_type": "markdown",
   "metadata": {},
   "source": [
    "Посмотрим, как выглядят данные из файла Stocks.xls:"
   ]
  },
  {
   "cell_type": "code",
   "execution_count": 204,
   "metadata": {},
   "outputs": [
    {
     "data": {
      "text/html": [
       "<div>\n",
       "<style scoped>\n",
       "    .dataframe tbody tr th:only-of-type {\n",
       "        vertical-align: middle;\n",
       "    }\n",
       "\n",
       "    .dataframe tbody tr th {\n",
       "        vertical-align: top;\n",
       "    }\n",
       "\n",
       "    .dataframe thead th {\n",
       "        text-align: right;\n",
       "    }\n",
       "</style>\n",
       "<table border=\"1\" class=\"dataframe\">\n",
       "  <thead>\n",
       "    <tr style=\"text-align: right;\">\n",
       "      <th></th>\n",
       "      <th>AA</th>\n",
       "      <th>AA_ret</th>\n",
       "      <th>AXP</th>\n",
       "      <th>AXP_ret</th>\n",
       "      <th>BA</th>\n",
       "      <th>BA_ret</th>\n",
       "      <th>C</th>\n",
       "      <th>C_ret</th>\n",
       "      <th>CAT</th>\n",
       "      <th>CAT_ret</th>\n",
       "      <th>...</th>\n",
       "      <th>HD</th>\n",
       "      <th>HD_ret</th>\n",
       "      <th>HON</th>\n",
       "      <th>HON_ret</th>\n",
       "      <th>HPQ</th>\n",
       "      <th>HPQ_ret</th>\n",
       "      <th>IBM</th>\n",
       "      <th>IBM_ret</th>\n",
       "      <th>INTC</th>\n",
       "      <th>INTC_return</th>\n",
       "    </tr>\n",
       "  </thead>\n",
       "  <tbody>\n",
       "    <tr>\n",
       "      <th>0</th>\n",
       "      <td>14.97</td>\n",
       "      <td>0.043144</td>\n",
       "      <td>17.40</td>\n",
       "      <td>-0.002301</td>\n",
       "      <td>49.74</td>\n",
       "      <td>0.023839</td>\n",
       "      <td>14.22</td>\n",
       "      <td>0.013967</td>\n",
       "      <td>31.71</td>\n",
       "      <td>0.023684</td>\n",
       "      <td>...</td>\n",
       "      <td>9.96</td>\n",
       "      <td>-0.005033</td>\n",
       "      <td>15.07</td>\n",
       "      <td>-0.003989</td>\n",
       "      <td>12.02</td>\n",
       "      <td>0.008285</td>\n",
       "      <td>18.24</td>\n",
       "      <td>0.008734</td>\n",
       "      <td>3.96</td>\n",
       "      <td>-0.002528</td>\n",
       "    </tr>\n",
       "    <tr>\n",
       "      <th>1</th>\n",
       "      <td>15.63</td>\n",
       "      <td>-0.001921</td>\n",
       "      <td>17.36</td>\n",
       "      <td>0.011455</td>\n",
       "      <td>50.94</td>\n",
       "      <td>-0.001179</td>\n",
       "      <td>14.42</td>\n",
       "      <td>0.005533</td>\n",
       "      <td>32.47</td>\n",
       "      <td>0.004916</td>\n",
       "      <td>...</td>\n",
       "      <td>9.91</td>\n",
       "      <td>-0.006073</td>\n",
       "      <td>15.01</td>\n",
       "      <td>0.011262</td>\n",
       "      <td>12.12</td>\n",
       "      <td>-0.005792</td>\n",
       "      <td>18.40</td>\n",
       "      <td>-0.005450</td>\n",
       "      <td>3.95</td>\n",
       "      <td>0.007566</td>\n",
       "    </tr>\n",
       "    <tr>\n",
       "      <th>2</th>\n",
       "      <td>15.60</td>\n",
       "      <td>-0.005141</td>\n",
       "      <td>17.56</td>\n",
       "      <td>0.044006</td>\n",
       "      <td>50.88</td>\n",
       "      <td>-0.001180</td>\n",
       "      <td>14.50</td>\n",
       "      <td>-0.008310</td>\n",
       "      <td>32.63</td>\n",
       "      <td>0.003365</td>\n",
       "      <td>...</td>\n",
       "      <td>9.85</td>\n",
       "      <td>-0.003050</td>\n",
       "      <td>15.18</td>\n",
       "      <td>0.003288</td>\n",
       "      <td>12.05</td>\n",
       "      <td>0.018093</td>\n",
       "      <td>18.30</td>\n",
       "      <td>0.015185</td>\n",
       "      <td>3.98</td>\n"
       "      <td>0.012485</td>\n",
       "    </tr>\n",
       "    <tr>\n",
       "      <th>3</th>\n",
       "      <td>15.52</td>\n",
       "      <td>-0.001935</td>\n",
       "      <td>18.35</td>\n",
       "      <td>-0.008758</td>\n",
       "      <td>50.82</td>\n",
       "      <td>-0.009490</td>\n",
       "      <td>14.38</td>\n",
       "      <td>-0.002786</td>\n",
       "      <td>32.74</td>\n",
       "      <td>-0.003365</td>\n",
       "      <td>...</td>\n",
       "      <td>9.82</td>\n",
       "      <td>0.014156</td>\n",
       "      <td>15.23</td>\n",
       "      <td>-0.007249</td>\n",
       "      <td>12.27</td>\n",
       "      <td>0.011345</td>\n",
       "      <td>18.58</td>\n",
       "      <td>0.005368</td>\n",
       "      <td>4.03</td>\n",
       "      <td>0.014779</td>\n",
       "    </tr>\n",
       "    <tr>\n",
       "      <th>4</th>\n",
       "      <td>15.49</td>\n",
       "      <td>0.033019</td>\n",
       "      <td>18.19</td>\n",
       "      <td>0.002197</td>\n",
       "      <td>50.34</td>\n",
       "      <td>-0.001193</td>\n",
       "      <td>14.34</td>\n",
       "      <td>0.022070</td>\n",
       "      <td>32.63</td>\n",
       "      <td>0.013394</td>\n",
       "      <td>...</td>\n",
       "      <td>9.96</td>\n",
       "      <td>0.010984</td>\n",
       "      <td>15.12</td>\n",
       "      <td>0.018349</td>\n",
       "      <td>12.41</td>\n",
       "      <td>0.014400</td>\n",
       "      <td>18.68</td>\n",
       "      <td>0.014350</td>\n",
       "      <td>4.09</td>\n",
       "      <td>0.009732</td>\n",
       "    </tr>\n",
       "  </tbody>\n",
       "</table>\n",
       "<p>5 rows × 36 columns</p>\n",
       "</div>"
      ],
      "text/plain": [
       "      AA    AA_ret    AXP   AXP_ret     BA    BA_ret      C     C_ret    CAT  \\\n",
       "0  14.97  0.043144  17.40 -0.002301  49.74  0.023839  14.22  0.013967  31.71   \n",
       "1  15.63 -0.001921  17.36  0.011455  50.94 -0.001179  14.42  0.005533  32.47   \n",
       "2  15.60 -0.005141  17.56  0.044006  50.88 -0.001180  14.50 -0.008310  32.63   \n",
       "3  15.52 -0.001935  18.35 -0.008758  50.82 -0.009490  14.38 -0.002786  32.74   \n",
       "4  15.49  0.033019  18.19  0.002197  50.34 -0.001193  14.34  0.022070  32.63   \n",
       "\n",
       "    CAT_ret     ...         HD    HD_ret    HON   HON_ret    HPQ   HPQ_ret  \\\n",
       "0  0.023684     ...       9.96 -0.005033  15.07 -0.003989  12.02  0.008285   \n",
       "1  0.004916     ...       9.91 -0.006073  15.01  0.011262  12.12 -0.005792   \n",
       "2  0.003365     ...       9.85 -0.003050  15.18  0.003288  12.05  0.018093   \n",
       "3 -0.003365     ...       9.82  0.014156  15.23 -0.007249  12.27  0.011345   \n",
       "4  0.013394     ...       9.96  0.010984  15.12  0.018349  12.41  0.014400   \n",
       "\n",
       "     IBM   IBM_ret  INTC  INTC_return  \n",
       "0  18.24  0.008734  3.96    -0.002528  \n",
       "1  18.40 -0.005450  3.95     0.007566  \n",
       "2  18.30  0.015185  3.98     0.012485  \n",
       "3  18.58  0.005368  4.03     0.014779  \n",
       "4  18.68  0.014350  4.09     0.009732  \n",
       "\n",
       "[5 rows x 36 columns]"
      ]
     },
     "execution_count": 204,
     "metadata": {},
     "output_type": "execute_result"
    }
   ],
   "source": [
    "stocks.head()"
   ]
  },
  {
   "cell_type": "markdown",
   "metadata": {},
   "source": [
    "Рассмотрим распределение приращения тика АА."
   ]
  },
  {
   "cell_type": "code",
   "execution_count": 205,
   "metadata": {},
   "outputs": [
    {
     "data": {
      "image/png": "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\n",
      "text/plain": [
       "<matplotlib.figure.Figure at 0x7f347ecb9f28>"
      ]
     },
     "metadata": {},
     "output_type": "display_data"
    }
   ],
   "source": [
    "AA_std=standartize(stocks['AA_ret'].values[:-1])\n",
    "_=sns.distplot(AA_std)"
   ]
  },
  {
   "cell_type": "code",
   "execution_count": 206,
   "metadata": {},
   "outputs": [
    {
     "name": "stdout",
     "output_type": "stream",
     "text": [
      "          Observed  Theoretical    Chi_term\n",
      "Interval                                   \n",
      "1                3     0.028014  315.290903\n",
      "2                1     0.386491    0.973872\n",
      "3                2     3.587831    0.702711\n",
      "4               16    21.453578    1.386319\n",
      "5               59    82.718696    6.801081\n",
      "6              193   205.840459    0.800996\n",
      "7              401   330.798697   14.897951\n",
      "8              364   343.445245    1.230176\n",
      "9              192   230.369169    6.390582\n",
      "10              85    99.800661    2.194971\n",
      "11              22    27.907591    1.250543\n",
      "12               6     5.032921    0.185825\n",
      "13               5     0.584758   33.337481\n",
      "14               1     0.043721   20.915911\n",
      "15               2     0.002167    1.362178\n",
      " \n",
      "Chi-statistic: 407.72150045117013 p-value: 0.0\n"
     ]
    }
   ],
   "source": [
    "_=chi_norm_test(AA_std, 15)"
   ]
  },
  {
   "cell_type": "markdown",
   "metadata": {},
   "source": [
    "Получаем очень большое значение Хи-квадрат статистики, отвергаем гипотезу о нормальности определения. \n",
    "\n",
    "Видно, что наибольший вклад в общую сумму имеют отклонения от ожидаемых значений на концах распределения. Возможно, приращение имеет какое-либо распределение с толстыми концами. Также возможно, что это выборсы в данных."
   ]
  },
  {
   "cell_type": "markdown",
   "metadata": {},
   "source": [
    "Рассмотрим распределение приращений тика CAT."
   ]
  },
  {
   "cell_type": "code",
   "execution_count": 207,
   "metadata": {},
   "outputs": [
    {
     "data": {
      "image/png": "iVBORw0KGgoAAAANSUhEUgAAAXQAAAD7CAYAAAB68m/qAAAABHNCSVQICAgIfAhkiAAAAAlwSFlzAAALEgAACxIB0t1+/AAAADl0RVh0U29mdHdhcmUAbWF0cGxvdGxpYiB2ZXJzaW9uIDIuMS4yLCBodHRwOi8vbWF0cGxvdGxpYi5vcmcvNQv5yAAAIABJREFUeJzt3WlwW+d9LvDnAAcLsRAASRDgJkqiqMUmJTleqsSpaFOWaZtWlER2prnO0k41zmTSsX3bqs3NdNQZNY2axNNEH+4o0XXjRUncxHEcV2K9xFQk2pHt2HJlStZKSRR3cCcBgtgOzv0AghIlkuAC8AAHz2/GYy6HwP+lwIcv3/MugizLMoiIKONplC6AiIiSg4FORKQSDHQiIpVgoBMRqQQDnYhIJRjoREQqMadAb2pqQl1dHbZu3YoDBw7c9Pnf/va32LRpE7Zv347t27fjpZdeSnqhREQ0OzHRBZIkYc+ePXj22WfhcrnwyCOPoLa2FqtWrZpy3UMPPYTdu3enrFAiIppdwkBvbm5GeXk5ysrKAAD19fVobGy8KdDnq6/Pu6ivBwCHw4ShIf+iHyddqbl9bFvmUnP7MqFtTqd1xs8lHHLxeDxwu92T77tcLng8npuue/PNN7Ft2zY88cQT6O7uXmCp8yOK2iV5HqWouX1sW+ZSc/syvW0Je+jT7QwgCMKU9++99148/PDD0Ov1ePHFF/GP//iPeOGFF2Z9XIfDlJRv3my/rdRAze1j2zKXmtuXyW1LGOhutxs9PT2T73s8HhQWFk65xuFwTL79pS99CU8//XTCJ07GnzVOpzUpQzfpSs3tY9syl5rblwltW9SQS3V1NVpbW9He3o5QKISGhgbU1tZOuaa3t3fy7SNHjqCiomIR5RIR0UIk7KGLoojdu3dj586dkCQJO3bsQGVlJfbt24eqqips2bIFBw8exJEjR6DVamGz2bB3796lqJ2IiK4jKLV9bjL+rMmEP48WQ83tY9syl5rblwltW9SQCxERZQYGOhGRSjDQiYhUgoFORKQSCWe5ENHNjp7snPbj92wsWeJKiK5hD52ISCUY6EREKsFAJyJSCQY6EZFKMNCJiFSCgU5EpBIMdCIilWCgExGpBBcWESWB1x+CXpfZx5dR5mOgEy1CKCzhg7O9uNQ1CgB4p7kbW+8qx59XuW46qpEo1RjoRLOYaYk/AAyMBHD0fzoxFojAYTXAoNOib3gczzWcQTgUwZbbS5ewUiIGOtGChCNRHDvZBX8gguqKfKyvyIdWI6B6RT6+e/BD/GfjRZQ6zVizzJH4wYiShDdFiRbg5MV++MbDuHVFHm6rLIBWExteybcZ8e2v3QkA+L+vnMaQN6hkmZRlGOhE89Q7NI6zV4eQa9Zjw6r8mz5fVVGAR+9dBd94GG/8qU2BCilbMdCJ5iEqy3j3kx4AwGeqXNBqp/8Rqv1UCWwWPZo+7sJ4MLKUJVIWY6ATzUNHrw8jvhAqSnJR6DDNeJ2o1eC+20sRCEl4++OuJayQshkDnWgezrcNAwBuWZ6X8NqajSXQ6zT4/YcdkKLRVJdGxFkuRHM17Auie8APV14OHFbDtNccPdkJq8UIry8AAFhRlIvzbcP46EI/7lxbuJTlUhZiD51ojuK987XzmIq4rjx27R8+6khJTUTXY6ATzUEoLOFS5whMRhFlhZY5f12uWY+Kklycbx+G1x9KYYVEHHIhmpMr3V5EJBnVK+3QaOa3pN9m1kOWgV8dacGqUtvkx3mgNCUbe+hEc9Dm8QIAVhbnzvtrl7msscfo9SW1JqIbMdCJEgiFJfQM+pGfa4A5Rzfvr88162G36NHdP4ZwhLNdKHUY6EQJdPSNQZaBsome9kKUuayQojK6+seSWBnRVAx0ogTaJ4ZK5nMz9EbLJr42PnRDlAoMdKJZSFIUnX0+WE062C36BT9OXq4BZqOIjr4xSFE5iRUSXcNAJ5pF96AfEUlGWaFlUQdWCIKA0kILwpEo+kfGk1gh0TUMdKJZtHkmhltcCx9uiSvKj+390jPgX/RjEU2HgU40A1mO3cQ06LRw2nMW/XiuvIlAH2SgU2rMKdCbmppQV1eHrVu34sCBAzNe9/rrr2PNmjU4depU0gokUkrf8Dj8gQjceTnQJOF8UINOi7xcA/qGAohInL5IyZcw0CVJwp49e/DMM8+goaEBhw8fRktLy03X+Xw+HDx4EBs2bEhJoURL7dzE3i3xnnUyuPNMiMoy+oY5jk7JlzDQm5ubUV5ejrKyMuj1etTX16OxsfGm6/bt24edO3fCYJh+FzqiTHO+bQhAkgOd4+iUQgkD3ePxwO12T77vcrng8XimXHPmzBn09PTg3nvvTX6FRAqQZRnn2oZh0GkXNV3xRi6HCYLAcXRKjYSbc8nyzXNmr5++FY1GsXfvXuzdu3deT+xwmCCK2nl9zXSczoWv3ssEam5fOretZ2AMQ94gKkpsyLXO/4ao1WKc8XMuhwmeIT/MViNMxvlvJZAO0vnfbrEyuW0JA93tdqOnp2fyfY/Hg8LCaxv1j42N4cKFC/ja174GAOjr68M3v/lN7N+/H9XV1TM+7tDQ4nsoTqcVfX3qXXmn5vale9uOTxwbl59rmDysYq6uP+BiOk67ET2Dfrx7shPrK24+ZDrdpfu/3WJkQttm+4WTcMiluroara2taG9vRygUQkNDA2prayc/b7Va8f777+PIkSM4cuQINm7cmDDMidJdKm6IxsUf89zEGD1RsiTsoYuiiN27d2Pnzp2QJAk7duxAZWUl9u3bh6qqKmzZsmUp6iRaMrIs43z7ECw5i1vuPxOnPQcCgEudI0l/bMpuczrgoqamBjU1NVM+9uSTT0577cGDBxdfFZGC+kYCGBwN4vbVzkUt95+JTtTAbjWgtceLiBSFqOX6PkoOvpKIbnB5oud8/elCyea05yAciU7u5EiUDAx0ohtc7h4FsLDTiebKaY/Ngmnp4LALJQ8DnegGV7pHoREElC/iQItECh2xqZCXuhjolDwMdKLrRKQorvb4UFpohl63+HUSM7Hk6GA16XhjlJKKgU50nY4+HyJSFCuLUjfcAsQW51UU2zAwGsSQN5jS56LswUAnus6Vrtj4+YoUjp/HxW+6spdOycJAJ7rO5A3RFPfQAaBi4pdGCwOdkmRO89CJssHRk504fWUQolbA+Y5hXExx0C4vyoVWI7CHTknDHjrRhFBEwogvhHybMSkHWiRi0GlRWmjBVY8X4QgPvKDFY6ATTRgYiW2oVWBb/HFzc7WqxIaIJOOqJ703hKLMwEAnmtA/Gegzb32bbBUlsXF0DrtQMjDQiSYMKBDoq4pjM114Y5SSgYFONGHIG4RBp4XJuHRzBfJtRtgselzqHJn2MBmi+WCgEwHwByLw+sPIyzWkZIfFmQiCgFXFNgz7Qhgc5QIjWhwGOhGA9t7YTUmHdekPOa8o4bALJQfnoRMBaJvYxjYvd+nGz4+e7AQAjPpjPfNjH3diPBTBPRtLlqwGUhf20IkAtE1MG8zLXfoeen6uERoB6Bue39mlRDdioBMBaPf4oNUIyDUn/8i5RLRaDfJyjRgcDSAicYERLRwDnbJeRIqis38MDqthSVaITsdpz4EsX5s6SbQQDHTKep19Y5CisiLDLXHOiQMv+obHFauBMh8DnbJe28QMlzzr0t0QvVH8SDqOo9NiMNAp67V5YjNcHAr20M1GHUxGEX3D41xgRAvGQKes1+7xQhCUmYN+Pac9B4GQhD6Oo9MCMdApq8myjLZeH9x5JohaZX8c4sMu3KiLFoqBTlltYDSAQEhCWaFF6VLgtMdujDLQaaEY6JTVOvvGAADFBWaFK4mtUtVoBFzqHFW6FMpQDHTKal39sUAvKVC+h67VCMjPNaC914dgSFK6HMpADHTKap3xQHcq30MHYsMuUVnGlW720mn+GOiU1Tr7xyBqNSi0L92xc7OZHEfv4jg6zR93W6SsE9/lUJZldPT6kGvWo6m5S+GqYuKB3tLBQKf5Yw+dspZvPAwpKsNuWfoNuWZiMopw2o1o6RxBlAuMaJ4Y6JS1hn0hAIDdouyCohtVltoxFoige2J8n2iuGOiUtYa9sYMl7AqvEL1RZWnsBKOLHHaheWKgU9Ya9k0EehoNuQCxHjoAXOwYVrgSyjQMdMpaw74QRK0AS45O6VKmKMo3wZKjYw+d5m1Ogd7U1IS6ujps3boVBw4cuOnzL774IrZt24bt27fjy1/+MlpaWpJeKFEyRaMyRnwh2MwGCAodajETQRBQWWpD/0gAg6PcqIvmLmGgS5KEPXv24JlnnkFDQwMOHz58U2Bv27YNhw4dwquvvoqdO3di7969KSuYKBm8/jCicnrNcLnetWEX9tJp7hIGenNzM8rLy1FWVga9Xo/6+no0NjZOucZiubZsenx8PO16PEQ3io+f29LshmjctRujHEenuUu4sMjj8cDtdk++73K50NzcfNN1v/jFL/Dss88iHA7j+eefT/jEDocJoqidZ7k3czqti36MdKbm9inVNqvFiPFQrOdbVGCB1ZL8k4oW85hOpxV2hxl63Ulc6fGm5WsgHWtKlkxuW8JAn+70lOl64I899hgee+wxHDp0CPv378f3v//9WR93aMg/jzKn53Ra0dfnXfTjpCs1t0/Jtnl9AXgGY3O8DaIAry+549RWi3FRjxn/vqwssuJ82zCutg/CZEyfG7d8XSprtl84CYdc3G43enp6Jt/3eDwoLCyc8fr6+nq89dZb8yyRaGmN+ILQaTUwG9N394vVZXbIAC60cxyd5iZhoFdXV6O1tRXt7e0IhUJoaGhAbW3tlGtaW1sn3z569CjKy8uTXihRskhRGSNjIdgs+rS+37NmmQMAcK5tSOFKKFMk7J6Ioojdu3dj586dkCQJO3bsQGVlJfbt24eqqips2bIFP//5z/Huu+9CFEXk5uYmHG4hUpJ3LARZTr8VojeqKM6FqBVwvo03Rmlu5vT3Zk1NDWpqaqZ87Mknn5x8+5/+6Z+SWxVRCqXrCtEb6XVaVBTbcKF9GGOBMMxpNI5O6Sl9BxCJUiRdN+WKi2/vCwAGvRYygN82XcZX71+jXFGUEbj0n7LOtR56egb69dx5JgBAz8DiZ4WR+jHQKesM+0LQixrkGBa/DiLVnPbYwdGeJEzzJfVjoFNWCUckeP0h2Czpt4fLdLRaDZx2IwZHg/CNh5Uuh9IcA52ySveAH7IMOKzpfUP0evFhl4vtnO1Cs2OgU1bpmjgFyJYB4+dxrolAP8fpi5QAA52ySudEoKf7lMXrOW1GaDUCFxhRQgx0yipdk4GeOT302Dh6Djp6fRxHp1kx0CmrdPaNwaDTwqhP/xku13Pl5Uzs68JhF5oZFxZR1giGJfQNj6PQkZMRM1yu584z4WMMoPFEB0b9ocmP37OxRMGqKN2wh05Zo2fADxnpv4fLdArssXH0nkHOR6eZMdApa3T0+QBk1g3ROK0mNo4+5A0iEJKULofSFAOdskYm3hC9njsvBwDQy1WjNAMGOmWNzgycg349Vz73daHZMdApa3T2jcFm1mfcDJe4AhvH0Wl2DHTKCoFQBAOjARQXmJUuZcG0Gg2cjhwM+0IIhCJKl0NpiIFOWaGrP9arLcngQAeu7eviGRxXuBJKRwx0ygqd/bEZLiVOdQQ6h11oOgx0ygqdfbEboiUFFoUrWZwCmxGiVuCNUZoWA52yQnzKYnGBSeFKFkejEVDoyMHIWAjjQY6j01QMdMoKnf1jcFgNMKngoGUOu9BMGOikev5AGEPeYMbfEI3jOaM0EwY6qV58hksmT1m8Xl6uETqthj10ugl3WyTVOnqyE8C1LWe94+HJj2UyjUZAYV4OOvvGMOQNwpGBm41RarCHTqo37AsCABwZuCnXTOLDLueu8hQjuoaBTqo37IvtH56pe7hMJx7oZ3ksHV2HgU6qN+ILwmwUoRPV83J35BqgFzXsodMU6nmFE00jEJIwHpQy8lCL2WgEAa48E/pHAugf4TYAFMNAJ1UbmRg/z9Q90GdzbRyd54xSDAOdVG14MtDVc0M0zp0fO/DiHMfRaQIDnVQtfkNUjT10u8UAS44O59qGIMuy0uVQGmCgk6oNe2M9dJsKe+iCIGDtMjsGR4PoG+Y4OjHQSeWGfSFYTTqIWnW+1NeWOwAA59o4jk4MdFKx8WAEwbCkqvnnN1q7bCLQOX2RMMdAb2pqQl1dHbZu3YoDBw7c9Plnn30WDz30ELZt24avf/3r6OzM/OXVlPnUuEL0RkX5JtjMepzlODphDoEuSRL27NmDZ555Bg0NDTh8+DBaWlqmXLNu3Tq8/PLLOHToEOrq6vDDH/4wZQUTzZUaV4jeSBAErFlmx4gvxM26KHGgNzc3o7y8HGVlZdDr9aivr0djY+OUazZt2oScnNgUqo0bN6Knpyc11RLNQ/yGqBqnLF6P4+gUl3C3RY/HA7fbPfm+y+VCc3PzjNf/5je/webNmxM+scNhgihq51jmzJxO66IfI52puX2pbtuoPwyNIKDUnQutZmlvF1ktxiV5nhMtA5BkAQDw7ic9yLXGnveBTy9P6fPydZmeEgb6dONygiBMe+2rr76K06dP4+c//3nCJx4aWvyfh06nFX193kU/TrpSc/tS3bZoVMbAyDhsFj38/lDKnmc6VosRXl9gyZ5PAxkmg4iOXh9GveMQBCGl31u+LpU12y+chN0Wt9s9ZQjF4/GgsLDwpuuOHz+On/zkJ9i/fz/0enX/iUvpzzPkR0SSs2KvcEEQ4M43IRCSMOJb2l9elF4SBnp1dTVaW1vR3t6OUCiEhoYG1NbWTrnmzJkz2L17N/bv34/8/PyUFUs0V+29PgBAXhYEOgC4eM4oYQ5DLqIoYvfu3di5cyckScKOHTtQWVmJffv2oaqqClu2bMEPfvAD+P1+PPnkkwCAoqIi/OQnP0l58UQziQe6Izc7At2dF5uU0DPon7xJStlnTkfQ1dTUoKamZsrH4uENAM8991xSiyJarMlAz5IeutWkh9koomfQz/noWYwrRUmV2nt9MBlEGPXZc2yuO9+EUDiKwdGg0qWQQhjopDq+8XDs8OQsGW6JK8o3AwC6B8YUroSUwkAn1Wn3xKadZctwS1xRfuzGaNcAb4xmKwY6qU5bls1wicsxiHBYDegdGkcoLCldDimAgU6qc+2G6NKs1kwnxQUmRKMyLnRwG4BsxEAn1Wnv9UEvamA165QuZcnFx9E/uTKocCWkBAY6qUo4IqGrfwylhRZoZtiiQs0KHTnQaAR8coX7o2cjBjqpylWPD1JUxsqiXKVLUYSo1cDlyEFHnw8jY9wGINsw0ElVLnWOAABWlmRnoAPXZruc4bBL1mGgk6pc6hoFAFQU2xSuRDnFBbFx9FNXBhSuhJYaA51U5XLXCHJNOhTYsm+GS5zDaoDDasCpSwOIRrkNQDZhoJNqDHmDGBwNoqLENuOe/dlAEARsqMjHWCCCS10jSpdDS4iBTqoxOX5enL3j53HrKwoAAB+3cNglmzDQSTUuc/x80rrlDuhEDZov9StdCi0hBjqpRkvXCAQBWF6UuWdCJotBp8XaZQ509I1hYGTpjsMjZTHQSRUiUhRXe7woc1qyasvc2WxYFTs9jL307MFAJ1Vo7/UhHIliZQmHW+LWV8QC/eNLHEfPFgx0UoUL7bHNqCp4Q3RSgS0HpU4zzrQOYTwYUbocWgIMdFKFU5djvdBbV+QpXEl6+dRqJyJSFM3spWcFBjplvGBIwoX2YSwrtMBuya490BO5Y20hAODD870KV0JLgYFOGe9s2xAikoyqlflKl5J2SgrMcOWZcOryAIIhHnqhdgx0ynjx4ZbqlRxuuZEgCLhjjROhcHTy+0TqxUCnjCbLMk5dGkCOQYsKznCZ1h1rYsMuJy70KVwJpRoDnTKaZ2gc/SMB3LI8D6KWL+fpLHNZUGAz4mRLP8IRDruoGVdgUEY7NTF7Qy9qcPRkp8LVpI8bvxeFjhz0jwRw6vIgPrXaqVBVlGrs0lBGi6+CLHaaFa4kva2YmJ//3ic9CldCqcRAp4w1OBrAmatDKLAZYTZm34HQ85FnNcBm0eNkywD8gbDS5VCKMNApYx0/3QNZBlaV8mZoIoIgYGVRLiJSFB+e581RtWKgU0aSZRnvNHdDL2qw3M3dFeciPuzy7mkOu6gVA50y0oX2YfQOj+P2NYXQ67RKl5MRLDk6rC6z43z7MLfUVSkGOmWkd5q7AQB/vr5I4UoyS15ubGuEX751AUdPdnJmkMow0Cnj+AMRfHC+F067EauX2ZUuJ6Msd1uh0Qi41DkCWeYB0mrDQKeM89aJdoTCUWzeUAxNFh8GvRB6nRbL3VaM+sPwDI0rXQ4lGQOdMoo/EMYbf2qHJUeH2k+VKl1ORqqcmBV0cWIPeVKPOQV6U1MT6urqsHXrVhw4cOCmz3/wwQf4whe+gFtuuQWvv/560oskijtw6AzGgxGsLrPh/bMejgEvQKEjB7lmPa72+BDgDoyqkjDQJUnCnj178Mwzz6ChoQGHDx9GS0vLlGuKioqwd+9ePPzwwykrlMg3HsbZq0Mw6rVYs8yhdDkZSxAEVJbaEJVlXO4aUbocSqKEgd7c3Izy8nKUlZVBr9ejvr4ejY2NU64pLS3F2rVrodFwBIdS57X3riIciaJqRR50Il9ri1FRkguNIOBiO2+OqknCnwqPxwO32z35vsvlgsfjSWlRRDfq7B/Dmx+0w2wUObMlCYx6EctcFoyMhXCujWPpapFwt8XpfnsLSZhZ4HCYIIqLXxDidKp7laCa2zfXtsmyjH9/6WNIURk1nyqFw2ZKcWWLZ7UYlS4hodvXudDa48Wxj7ux+Y5l8/pavi7TU8JAd7vd6Om5tlTY4/GgsLBw0U88NORf9GM4nVb09XkX/TjpSs3tm0/bjp/uxulLA7itsgAFuQZ4fem9ytFqMaZ9jQBgNmhRYDPigzM9OH3eA1fe3H5R8nWprNl+4SQccqmurkZrayva29sRCoXQ0NCA2trapBZINJOxQBi/OtICvU6D/3XfaqXLUZ11yx2QAbx1okPpUigJEga6KIrYvXs3du7ciYceeggPPvggKisrsW/fvsmbo83Nzdi8eTNef/11/PM//zPq6+tTXjhlh5ePXYbXH8b2u1cg35b+wxiZptxlhcNqwDvN3dxWVwXmdGJRTU0NampqpnzsySefnHx7/fr1aGpqSm5llPUud43i2P90orjAjK13lildjippNAK23F6K3xy9hGMfd+HBPytXuiRaBM79orQUjcp44Y1zkAF89f7VPC80hWo2FsOo1+KNP7UjFOZCo0zGnxJKS0dPdqLN48PdVW4uIkoxs1GHLbeXYnQshKaPu5QuhxaBgU5pZywQxu/evgKjXotH7l2ldDlZYeudZdCLGrz2fhvCkajS5dACMdAp7fzXO63wjYex7e7lsJn1SpeTFXJNetxzWwmGvEEcP92tdDm0QHO6KUqUKjdurjXiC+GtE+2wmnTQ6zTcfGsJ1d21DEc+6kTDu1dxd3UR71tkIP6LUVo5caEPsgzcvsYJLfcGWlIOqwH33FaM/pEAjp3kWHom4k8MpY3+kXF09PpQ6MhBWaFF6XKy0sOfXg6DXotDf7yCQCiidDk0Twx0ShsfXxwAAGxcVZCU/YJo/nLNejxw1zKM+sN484N2pcuheWKgU1roGx5HZ/8YXHk5cOen/+Zbanb/nWWwmnR4/f02jPpDSpdD88BAp7Rw8mI/gFjvnJSVYxCx7TPLEQhJePXtK0qXQ/PAWS6kuN4hP7oH/HDnm+a84x+l1j23laDh3as4+j+dsJhEOKzX9tF5dOtaBSuj2bCHToo72RIfO89XuBKKE7Ua3LG2EDKAD8728VSjDMFAJ0V5Bv3oGfCjKN+EQgd75+mkxGlGidOMnkE/2nt9SpdDc8BAJ0WdbJkYO6/k2Hk6umNNIQQB+OBsL7cEyAAMdFLM2atD8AyOo6TADKc9R+lyaBo2ix5VK/IwFojg44lfvpS+eFOUFCHLMl5pugwA2FDJsXMlJdpeoboiH1e6vTh7dQgri3OXqCpaCPbQSREfnvWgpXMEZYUWFNjYO09nolaDTbe6IMvAu594IEkceklXDHRaclFZxsHXzkIAcBvHzjNCcYEZK4qsGBgJ4KUjF5Uuh2bAQKcl98HZXlzpGsWmW92wWw1Kl0NzdNctLpiMIl588zwudY0oXQ5Ng4FOSyockfBK02VoNQK2//kKpcuheTDotPhsdRFkWcb/O3SGm3elIQY6LanDx6+id3gc9XevQCFntmQcd74JX6hZhd6hcTxz+CyiUS44SicMdFoynf1j+O/3rsJhNeCxB7h8PFN95cF1WFfuwEcX+vCrIy1Kl0PXYaDTkojKMp5//RykqIyv3r8GJqNO6ZJogXSiBt/6QhWKC8z4/YfteONPbUqXRBMY6LQkDh9vRUvHCO5Y4+SqUBUwGXV46tH1sJn1+NWRFvxn40UOv6QBLiyilHv3dA9+9/YV5Oca8dj9a5Quhxbp9Xdb4fUFAAC1t5fgyIlOvPlBO3oG/fj6A2vh4MwlxbCHTin1SesgfvbfZ2EyiPjfX9oAm1mvdEmURFaTHg9uWoaifBOaLw3g/xx4F797+zL8Ac6AUQJ76JQSUVnGa+9dxStNVyAIwLe+WI3iArPSZVEK6HVabLmjFKJGg1eaLuO//tiK195vw4ZVBbhrbSFuWZ4Hk5FRsxT4XaYFm2kPkNICC155+zLOXh2C3aLHNz53K9Ysc0y53moxTv7ZTplPIwjYvKEYd60rROOJDhw/3YMPz/Xiw3O9EATAac9BcYEZxQVm5OcacO9tpUqXrEoMdEqKYEhCW68PF9uH0T8SC+r1Ffn46/p1sJo4zJItjHoR9Z9ejoc2laPN48Mrb19GV/8YeofG0Ts0jpMX+2EyiOgfDuAzVW6UOC1Kl6wqDHRasFBEQrvHh9YeL7r7xxCf5LBxVQHq7irD6jI7BEFQtkhaMtP9xbaxsgAbKwsQCEnoHhhDV98Y2np9eO39Nrz2fhuWuSz4TFURNt3iQi7vryyaICt0tlRfn3fRj+F0WpPyOOkqXdt3tceLt071v23tAAAJsklEQVS0471PPJAmUtxhNWBFkRXlbuuceuRqHnJRc9uAxbdPkqLINRtw/FQ3Tl8ZhBSVodUI2LCqAHaLHsUFZmg0UzsC92wsWWzZc5KuP3PXczqtM36OPXSak4gUxUcX+vDWiQ60dMQ2ZrKadKgozsXyolz2rmjOtFoN7lxbiDvXFmLUH8L7Zzx4++NufHShDwCQYxCxqiQXq0ptHK6bJwY6zcoz6Mc7p7rxzqlujPhCAICqlXm47/ZSDIwGOKRCi5Jr0mPrHWW47/ZSXPV48Z+NLbjSPYpTlwdx6vIgXHk5WFViw5+tcyHHwLhKhN+hLHX9eGc0KiMYljAejGB1mR2jY6HJE2q6+scAxJZ7r11mx9pyB3LNegx6gwxzWrCZZkhtutWFO9Y60ebx4mLHCDyD4/AMjuNPZ3uxYVUBPn2LC1Ur86ETuYRmOnMK9KamJvzrv/4rotEoHn30UTz++ONTPh8KhfAP//AP+OSTT2C32/GjH/0IpaWclpQOxoMR9I8E0D88jr6RAAZHAxgZC+FqjxeBUASBkIRASLruK65OvqXXaVC9Mh92ix5lLgtELX+IKPVErQYri21YWWyD1x/Cla5R9AyOT06DNBtFbFwVu9l664o8GPXsl8Yl/E5IkoQ9e/bg2WefhcvlwiOPPILa2lqsWrVq8pqXXnoJubm5+P3vf4+GhgY8/fTT+PGPf5zSwhdqPBjBsC+I8aCED8/3AgB0ogCdqIVRr4Wo1SzZDZjZRKQofv3WBfQPjiEYlhCduHcty8C6cgeisgw5CkhRGVFZhhSV4fWHMOQNTv43OBrA2Cwr9vSiBkaDCJtZD6NeC6NBxLqJHnhRngkVJTaIWk3CMyeJUsVq0mP9qgJUyzIGR4O40j2KK91e/PF0D/54ugdajYDlbisqS+0oLTSjKN+M/FwjLDm6m26szlVEiuLIRx2ISDIiUhRSNAopGvt5qf1UKUxGEZo0/es0YaA3NzejvLwcZWVlAID6+no0NjZOCfQjR47gb/7mbwAAdXV12LNnD2RZTtmf5KP+ECKRKCSNBv2DfkhRGaGIBH8gEvsvGMFYIAzvWBjDviCGfUEM+UIY9gURnNIbvZle1KDxww7YrQY4LIaJ/+thNelh0Gth0MX+M+q10GoEQAAExNoZb2683fH3JUmGFI0iIsWCNxSW4BsPwzcexth4GL5AGKNjIQz7Qhj2BjHkC8LrD89Y47GTXQm/R6JWgNmoQ3GBGZYcHSwmHaw5OphzROQYxIn6Z+5xdw/60T3oT/g8REtBEATk24zItxlx+xonBkZi92/OXh3ClW4vLnWNTr0egMkoQhQ10Gk10Go1CIYi0GgExOf1ybIMs1GHsBRFKCwhGI4iHJEQkWae+Pe7t2Mrn81GHSw5OtgtetgtBtgtBtgselhNOhj1Igz6WEYY9SJ0WgEaQYBGI0AQBOhEDSw5qdltNGGgezweuN3uyfddLheam5tvuqaoqCj2gKIIq9WKoaEh5OXlJblcoPFEB37x+wvz/rpckw4uew5sFgPsFj3MRh06+nwAgLAURTgSxXgw9stg0BtE58TY8VIz6LSwWw0oKTAjCkCn1cCg00AjxF4MEIDVpXZohNhsAUEAtJrYC+Zy9yhMRhEmowi9qFWkfqJUEwQBBfacyb+kA6EIWru9sXnuA34Me4Pw+kMYC0QQlqKISFGEghEEghFEJzqaAgAIQDgShShqYNBpYcnRw2zSQQPA6w9B1Gqg1QoQtbGfv1BEgjVHD18g1hHz+sPoWWCn56/r1+Hu6qKkfU/iEgb6dNPUb+x5z+WaG802l3I2f/HAOvzFA+sW9LVEpE5lJQ6lS0gLCe9yud1u9PT0TL7v8XhQWFh40zXd3d0AgEgkAq/XC7vdnuRSiYhoNgkDvbq6Gq2trWhvb0coFEJDQwNqa2unXFNbW4tXXnkFAPDGG29g06ZNnNJGRLTE5rT0/9ixY/je974HSZKwY8cOfPOb38S+fftQVVWFLVu2IBgMYteuXTh79ixsNht+9KMfTd5EJSKipaHYXi5ERJRcXClCRKQSDHQiIpVQRaAfPHgQdXV1qK+vxw9+8AOly0mJ//iP/8CaNWswODiodClJ8/3vfx8PPPAAtm3bhm9961sYHR1N/EVprqmpCXV1ddi6dSsOHDigdDlJ093dja9+9at48MEHUV9fj+eff17pkpJOkiR8/vOfxze+8Q2lS1mwjN8E4b333kNjYyMOHToEvV6PgYEBpUtKuu7ubhw/fhzFxcVKl5JUd999N/7u7/4Ooijihz/8IX76059i165dSpe1YHPZJiNTabVafPvb38att94Kn8+HHTt24O6771ZF2+JeeOEFVFRUwOfzKV3KgmV8D/3FF1/E448/Dr0+tm9yfn6+whUl3969e7Fr1y7VTQX97Gc/C1GM9Sk2btw4Zb1DJrp+mwy9Xj+5TYYaFBYW4tZbbwUAWCwWrFy5Eh6PR+GqkqenpwdHjx7FI488onQpi5Lxgd7a2ooPP/wQjz76KL7yla/ctC1BpmtsbERhYSHWrl2rdCkp9fLLL2Pz5s1Kl7Eo022ToabQi+vo6MDZs2exYcMGpUtJmu9973vYtWsXNLPsb5QJMmLI5S//8i/R399/08efeuopSJKE0dFR/PrXv8apU6fw1FNPobGxMaN6s7O176c//Sl+9rOfKVBVcszWtvvuuw8AsH//fmi1Wnzuc59b6vKSaiFbYGSasbExPPHEE/jOd74Di0UdBzz/4Q9/QF5eHqqqqvD+++8rXc6iZESgP/fcczN+7sUXX8TWrVshCALWr18PjUaTso3BUmWm9p0/fx4dHR3Yvn07gNifhV/84hfx0ksvwel0LmGFCzfbvx0AvPLKKzh69Ciee+65jA+/uWyTkcnC4TCeeOIJbNu2Dffff7/S5STNRx99hCNHjqCpqQnBYBA+nw9///d/j6efflrp0uZPznC//OUv5R//+MeyLMvy5cuX5c2bN8vRaFThqlLj3nvvlQcGBpQuI2mOHTsmP/jgg6ppUzgclmtra+W2tjY5GAzK27Ztky9cuKB0WUkRjUblXbt2yd/97neVLiWl3nvvPfnxxx9XuowFy4ge+mx27NiB73znO3j44Yeh0+nwb//2bxnf08sW//Iv/4JQKIS/+qu/AgBs2LABe/bsUbiqhRNFEbt378bOnTsnt8morKxUuqykOHHiBF599VWsXr168i/Gv/3bv0VNTY3CldH1uPSfiEglMvuWLhERTWKgExGpBAOdiEglGOhERCrBQCciUgkGOhGRSjDQiYhUgoFORKQS/x8XeIISiQb9kgAAAABJRU5ErkJggg==\n",
      "text/plain": [
       "<matplotlib.figure.Figure at 0x7f347ec7bdd8>"
      ]
     },
     "metadata": {},
     "output_type": "display_data"
    }
   ],
   "source": [
    "_=sns.distplot(standartize(stocks['CAT_ret'].values[:-1]))"
   ]
  },
  {
   "cell_type": "code",
   "execution_count": 208,
   "metadata": {},
   "outputs": [
    {
     "name": "stdout",
     "output_type": "stream",
     "text": [
      "          Observed  Theoretical     Chi_term\n",
      "Interval                                    \n",
      "1                2     0.001168  3421.760400\n",
      "2                0     0.022765     0.022765\n",
      "3                2     0.304763     9.429707\n",
      "4                5     2.712812     1.928342\n",
      "5               13    16.070701     0.586733\n",
      "6               49    63.411961     3.275480\n",
      "7              133   166.777760     6.841063\n",
      "8              332   292.530228     5.325477\n",
      "9              394   342.304540     7.807143\n",
      "10             251   267.242180     0.987151\n",
      "11             110   139.182032     6.118541\n",
      "12              38    48.337244     2.210689\n",
      "13              17    11.187881     3.019403\n",
      "14               3     1.724478     0.943448\n",
      "15               3     0.189485     0.030833\n",
      " \n",
      "Chi-statistic: 3470.287175315663 p-value: 0.0\n"
     ]
    }
   ],
   "source": [
    "_=chi_norm_test(stocks['CAT_ret'].values[:-1], 15, stand=False)"
   ]
  },
  {
   "cell_type": "markdown",
   "metadata": {},
   "source": [
    "Ситуация схожа с той, что имеем для тика AA: большое значение статистики обусловлено выбросами."
   ]
  },
  {
   "cell_type": "markdown",
   "metadata": {},
   "source": [
    "Перейдем к рассмотрению модельного финансового инструмента, файл model_returns.xls. Начнем с ряда 0.7_noise."
   ]
  },
  {
   "cell_type": "code",
   "execution_count": 213,
   "metadata": {},
   "outputs": [
    {
     "data": {
      "image/png": "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\n",
      "text/plain": [
       "<matplotlib.figure.Figure at 0x7f347ecc7b38>"
      ]
     },
     "metadata": {},
     "output_type": "display_data"
    }
   ],
   "source": [
    "_=sns.distplot(standartize(model_stock['0.7_noise'].values[:-4]))\n",
    "#print(len(model_stock['0.7_noise'].values[:-4]))"
   ]
  },
  {
   "cell_type": "code",
   "execution_count": 216,
   "metadata": {},
   "outputs": [
    {
     "name": "stdout",
     "output_type": "stream",
     "text": [
      " \n",
      "Chi-statistic: 15.623909461903388 p-value: 0.5506351020407534\n"
     ]
    }
   ],
   "source": [
    "_=chi_norm_test(model_stock['0.7_noise'].values[:-4], 20, stand=False)"
   ]
  },
  {
   "cell_type": "markdown",
   "metadata": {},
   "source": [
    "p-value>0.05 нельзя отвергнуть нулевую гипотезу о нормальности распределния."
   ]
  },
  {
   "cell_type": "code",
   "execution_count": 236,
   "metadata": {},
   "outputs": [
    {
     "data": {
      "image/png": "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\n",
      "text/plain": [
       "<matplotlib.figure.Figure at 0x7f347f4561d0>"
      ]
     },
     "metadata": {},
     "output_type": "display_data"
    },
    {
     "name": "stdout",
     "output_type": "stream",
     "text": [
      "          Observed  Theoretical  Chi_term\n",
      "Interval                                 \n",
      "1               13     7.146572  4.794274\n",
      "2               11    14.908903  1.024859\n",
      "3               36    35.480945  0.007593\n",
      "4               63    70.057578  0.710978\n",
      "5              100   114.773488  1.901623\n",
      "6              165   156.015036  0.517447\n",
      "7              204   175.969430  4.465053\n",
      "8              156   164.686064  0.458131\n",
      "9              130   127.886204  0.034938\n",
      "10              70    82.400830  1.866250\n",
      "11              46    44.052432  0.086102\n",
      "12              13    19.539962  2.188904\n",
      "13              11     7.190749  2.017926\n",
      "14               3     2.195323  0.294948\n",
      "15               2     0.696485  0.002385\n",
      " \n",
      "Chi-statistic: 20.371411476146545 p-value: 0.060378292366620956\n"
     ]
    }
   ],
   "source": [
    "_=sns.distplot(standartize(model_stock['0.5_noise'].values[:-1]))\n",
    "plt.show()\n",
    "_=chi_norm_test(model_stock['0.5_noise'].values[:-1], 15, stand=False)"
   ]
  },
  {
   "cell_type": "markdown",
   "metadata": {},
   "source": [
    "p-value очень близко к 0."
   ]
  },
  {
   "cell_type": "code",
   "execution_count": 218,
   "metadata": {},
   "outputs": [
    {
     "data": {
      "image/png": "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\n",
      "text/plain": [
       "<matplotlib.figure.Figure at 0x7f348184f048>"
      ]
     },
     "metadata": {},
     "output_type": "display_data"
    },
    {
     "name": "stdout",
     "output_type": "stream",
     "text": [
      "          Observed  Theoretical   Chi_term\n",
      "Interval                                  \n",
      "1               18    10.867539   4.681097\n",
      "2               31    10.514995  39.908289\n",
      "3               32    18.089196  10.697571\n",
      "4               26    28.973738   0.305212\n",
      "5               59    43.208129   5.771673\n",
      "6               68    59.993276   1.068580\n",
      "7               25    77.556164  35.614840\n",
      "8               21    93.348434  56.072670\n",
      "9               52   104.610427  26.458711\n",
      "10              66   109.149132  17.057832\n",
      "11             190   106.033483  66.491978\n",
      "12             131    95.905421  12.842126\n",
      "13              98    80.764507   3.678128\n",
      "14             142    63.324965  97.745987\n",
      "15              65   121.660594   0.025770\n",
      " \n",
      "Chi-statistic: 378.42046294008986 p-value: 0.0\n"
     ]
    }
   ],
   "source": [
    "_=sns.distplot(model_stock['0.5_brown'])\n",
    "plt.show()\n",
    "_=chi_norm_test(model_stock['0.5_brown'], 15, stand=False)"
   ]
  },
  {
   "cell_type": "markdown",
   "metadata": {},
   "source": [
    "Отличие распределения от нормального видно уже по графику, что подтверждается расчетом статистики. "
   ]
  }
 ],
 "metadata": {
  "kernelspec": {
   "display_name": "Python 3",
   "language": "python",
   "name": "python3"
  },
  "language_info": {
   "codemirror_mode": {
    "name": "ipython",
    "version": 3
   },
   "file_extension": ".py",
   "mimetype": "text/x-python",
   "name": "python",
   "nbconvert_exporter": "python",
   "pygments_lexer": "ipython3",
   "version": "3.6.4"
  }
 },
 "nbformat": 4,
 "nbformat_minor": 2
}
