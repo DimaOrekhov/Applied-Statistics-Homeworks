{
 "cells": [
  {
   "cell_type": "markdown",
   "metadata": {},
   "source": [
    "## Парная регрессия"
   ]
  },
  {
   "cell_type": "markdown",
   "metadata": {},
   "source": [
    "Импортируем необходимые модули."
   ]
  },
  {
   "cell_type": "code",
   "execution_count": 32,
   "metadata": {},
   "outputs": [],
   "source": [
    "import numpy as np\n",
    "import pandas as pd\n",
    "import scipy.stats as st\n",
    "import matplotlib.pyplot as plt\n",
    "import seaborn as sns\n",
    "import statsmodels.api as sm\n",
    "\n",
    "import warnings\n",
    "warnings.filterwarnings('ignore')"
   ]
  },
  {
   "cell_type": "markdown",
   "metadata": {},
   "source": [
    "Загрузим данные."
   ]
  },
  {
   "cell_type": "code",
   "execution_count": 2,
   "metadata": {},
   "outputs": [],
   "source": [
    "df=pd.DataFrame([[4.0, 5.2, 3.8, 2.9, 4.6, 4.5, 3.7, 5.0],\n",
    "             [1.0, 0.9, 1.1, 1.2, 0.95, 0.9, 1.0, 0.95],\n",
    "             [8.0, 9.0, 6.0, 5.0, 7.0, 6.0, 6.0, 10.0],\n",
    "             [24.0, 26.0, 20.0, 18.0, 20.0, 30.0, 27.0, 28.0]],\n",
    "            columns=list(range(1,9)), index=['Объем продаж', 'Розн. цена',\n",
    "                                            'Расходы на рекламу', 'Кол. работы']).transpose()"
   ]
  },
  {
   "cell_type": "code",
   "execution_count": 5,
   "metadata": {},
   "outputs": [
    {
     "data": {
      "text/html": [
       "<div>\n",
       "<style scoped>\n",
       "    .dataframe tbody tr th:only-of-type {\n",
       "        vertical-align: middle;\n",
       "    }\n",
       "\n",
       "    .dataframe tbody tr th {\n",
       "        vertical-align: top;\n",
       "    }\n",
       "\n",
       "    .dataframe thead th {\n",
       "        text-align: right;\n",
       "    }\n",
       "</style>\n",
       "<table border=\"1\" class=\"dataframe\">\n",
       "  <thead>\n",
       "    <tr style=\"text-align: right;\">\n",
       "      <th></th>\n",
       "      <th>Объем продаж</th>\n",
       "      <th>Розн. цена</th>\n",
       "      <th>Расходы на рекламу</th>\n",
       "      <th>Кол. работы</th>\n",
       "    </tr>\n",
       "  </thead>\n",
       "  <tbody>\n",
       "    <tr>\n",
       "      <th>1</th>\n",
       "      <td>4.0</td>\n",
       "      <td>1.00</td>\n",
       "      <td>8.0</td>\n",
       "      <td>24.0</td>\n",
       "    </tr>\n",
       "    <tr>\n",
       "      <th>2</th>\n",
       "      <td>5.2</td>\n",
       "      <td>0.90</td>\n",
       "      <td>9.0</td>\n",
       "      <td>26.0</td>\n",
       "    </tr>\n",
       "    <tr>\n",
       "      <th>3</th>\n",
       "      <td>3.8</td>\n",
       "      <td>1.10</td>\n",
       "      <td>6.0</td>\n",
       "      <td>20.0</td>\n",
       "    </tr>\n",
       "    <tr>\n",
       "      <th>4</th>\n",
       "      <td>2.9</td>\n",
       "      <td>1.20</td>\n",
       "      <td>5.0</td>\n",
       "      <td>18.0</td>\n",
       "    </tr>\n",
       "    <tr>\n",
       "      <th>5</th>\n",
       "      <td>4.6</td>\n",
       "      <td>0.95</td>\n",
       "      <td>7.0</td>\n",
       "      <td>20.0</td>\n",
       "    </tr>\n",
       "    <tr>\n",
       "      <th>6</th>\n",
       "      <td>4.5</td>\n",
       "      <td>0.90</td>\n",
       "      <td>6.0</td>\n",
       "      <td>30.0</td>\n",
       "    </tr>\n",
       "    <tr>\n",
       "      <th>7</th>\n",
       "      <td>3.7</td>\n",
       "      <td>1.00</td>\n",
       "      <td>6.0</td>\n",
       "      <td>27.0</td>\n",
       "    </tr>\n",
       "    <tr>\n",
       "      <th>8</th>\n",
       "      <td>5.0</td>\n",
       "      <td>0.95</td>\n",
       "      <td>10.0</td>\n",
       "      <td>28.0</td>\n",
       "    </tr>\n",
       "  </tbody>\n",
       "</table>\n",
       "</div>"
      ],
      "text/plain": [
       "   Объем продаж  Розн. цена  Расходы на рекламу  Кол. работы\n",
       "1           4.0        1.00                 8.0         24.0\n",
       "2           5.2        0.90                 9.0         26.0\n",
       "3           3.8        1.10                 6.0         20.0\n",
       "4           2.9        1.20                 5.0         18.0\n",
       "5           4.6        0.95                 7.0         20.0\n",
       "6           4.5        0.90                 6.0         30.0\n",
       "7           3.7        1.00                 6.0         27.0\n",
       "8           5.0        0.95                10.0         28.0"
      ]
     },
     "execution_count": 5,
     "metadata": {},
     "output_type": "execute_result"
    }
   ],
   "source": [
    "df"
   ]
  },
  {
   "cell_type": "markdown",
   "metadata": {},
   "source": [
    "## Исследование зависимости объема продаж от розничной цены"
   ]
  },
  {
   "cell_type": "markdown",
   "metadata": {},
   "source": [
    "Стандартизируем данные"
   ]
  },
  {
   "cell_type": "code",
   "execution_count": 17,
   "metadata": {},
   "outputs": [],
   "source": [
    "from sklearn.preprocessing import StandardScaler\n",
    "scaler=StandardScaler()\n",
    "standartized=scaler.fit_transform(df)"
   ]
  },
  {
   "cell_type": "code",
   "execution_count": 74,
   "metadata": {},
   "outputs": [
    {
     "data": {
      "text/html": [
       "<table class=\"simpletable\">\n",
       "<caption>OLS Regression Results</caption>\n",
       "<tr>\n",
       "  <th>Dep. Variable:</th>            <td>y</td>        <th>  R-squared:         </th> <td>   0.795</td>\n",
       "</tr>\n",
       "<tr>\n",
       "  <th>Model:</th>                   <td>OLS</td>       <th>  Adj. R-squared:    </th> <td>   0.765</td>\n",
       "</tr>\n",
       "<tr>\n",
       "  <th>Method:</th>             <td>Least Squares</td>  <th>  F-statistic:       </th> <td>   27.08</td>\n",
       "</tr>\n",
       "<tr>\n",
       "  <th>Date:</th>             <td>Sun, 27 May 2018</td> <th>  Prob (F-statistic):</th>  <td>0.00125</td>\n",
       "</tr>\n",
       "<tr>\n",
       "  <th>Time:</th>                 <td>18:05:57</td>     <th>  Log-Likelihood:    </th> <td> -5.0199</td>\n",
       "</tr>\n",
       "<tr>\n",
       "  <th>No. Observations:</th>      <td>     8</td>      <th>  AIC:               </th> <td>   12.04</td>\n",
       "</tr>\n",
       "<tr>\n",
       "  <th>Df Residuals:</th>          <td>     7</td>      <th>  BIC:               </th> <td>   12.12</td>\n",
       "</tr>\n",
       "<tr>\n",
       "  <th>Df Model:</th>              <td>     1</td>      <th>                     </th>     <td> </td>   \n",
       "</tr>\n",
       "<tr>\n",
       "  <th>Covariance Type:</th>      <td>nonrobust</td>    <th>                     </th>     <td> </td>   \n",
       "</tr>\n",
       "</table>\n",
       "<table class=\"simpletable\">\n",
       "<tr>\n",
       "   <td></td>     <th>coef</th>     <th>std err</th>      <th>t</th>      <th>P>|t|</th>  <th>[0.025</th>    <th>0.975]</th>  \n",
       "</tr>\n",
       "<tr>\n",
       "  <th>x1</th> <td>   -0.8914</td> <td>    0.171</td> <td>   -5.204</td> <td> 0.001</td> <td>   -1.296</td> <td>   -0.486</td>\n",
       "</tr>\n",
       "</table>\n",
       "<table class=\"simpletable\">\n",
       "<tr>\n",
       "  <th>Omnibus:</th>       <td> 0.792</td> <th>  Durbin-Watson:     </th> <td>   1.842</td>\n",
       "</tr>\n",
       "<tr>\n",
       "  <th>Prob(Omnibus):</th> <td> 0.673</td> <th>  Jarque-Bera (JB):  </th> <td>   0.556</td>\n",
       "</tr>\n",
       "<tr>\n",
       "  <th>Skew:</th>          <td>-0.165</td> <th>  Prob(JB):          </th> <td>   0.757</td>\n",
       "</tr>\n",
       "<tr>\n",
       "  <th>Kurtosis:</th>      <td> 1.751</td> <th>  Cond. No.          </th> <td>    1.00</td>\n",
       "</tr>\n",
       "</table>"
      ],
      "text/plain": [
       "<class 'statsmodels.iolib.summary.Summary'>\n",
       "\"\"\"\n",
       "                            OLS Regression Results                            \n",
       "==============================================================================\n",
       "Dep. Variable:                      y   R-squared:                       0.795\n",
       "Model:                            OLS   Adj. R-squared:                  0.765\n",
       "Method:                 Least Squares   F-statistic:                     27.08\n",
       "Date:                Sun, 27 May 2018   Prob (F-statistic):            0.00125\n",
       "Time:                        18:05:57   Log-Likelihood:                -5.0199\n",
       "No. Observations:                   8   AIC:                             12.04\n",
       "Df Residuals:                       7   BIC:                             12.12\n",
       "Df Model:                           1                                         \n",
       "Covariance Type:            nonrobust                                         \n",
       "==============================================================================\n",
       "                 coef    std err          t      P>|t|      [0.025      0.975]\n",
       "------------------------------------------------------------------------------\n",
       "x1            -0.8914      0.171     -5.204      0.001      -1.296      -0.486\n",
       "==============================================================================\n",
       "Omnibus:                        0.792   Durbin-Watson:                   1.842\n",
       "Prob(Omnibus):                  0.673   Jarque-Bera (JB):                0.556\n",
       "Skew:                          -0.165   Prob(JB):                        0.757\n",
       "Kurtosis:                       1.751   Cond. No.                         1.00\n",
       "==============================================================================\n",
       "\n",
       "Warnings:\n",
       "[1] Standard Errors assume that the covariance matrix of the errors is correctly specified.\n",
       "\"\"\""
      ]
     },
     "execution_count": 74,
     "metadata": {},
     "output_type": "execute_result"
    }
   ],
   "source": [
    "model=sm.OLS(standartized[:,0], standartized[:,1]).fit()\n",
    "model.summary()"
   ]
  },
  {
   "cell_type": "markdown",
   "metadata": {},
   "source": [
    "Выше преведена таблица, обобщающая результаты построенной регрессионной модели. Коэффициент детерминации (**R-squared**) имеет достаточно высокое значение, **0.795**, данный результат статистически значим, **p-value << 0.05** (**Prob (F-statistic)**). Результаты регрессионного анализа признаются значимыми.\n",
    "\n",
    "Ниже в таблице приведен стандартизированный коэффициент наклона регрессионной прямой, **-0.8914** (**x1, coef**). А также p-value для него (**P>[t]**). **p-value << 0.05**, полученный наклон статистически значимый."
   ]
  },
  {
   "cell_type": "code",
   "execution_count": 98,
   "metadata": {},
   "outputs": [
    {
     "data": {
      "image/png": "[encoded data removed]",
      "text/plain": [
       "<matplotlib.figure.Figure at 0x7fd529576860>"
      ]
     },
     "metadata": {},
     "output_type": "display_data"
    }
   ],
   "source": [
    "slope, intercept, rval, pval, stderr=st.linregress(df.values[:,1], df.values[:,0])\n",
    "\n",
    "sns.set()\n",
    "fig=plt.figure(figsize=[10, 8])\n",
    "ax=plt.subplot(1, 1, 1)\n",
    "plt.scatter(df.values[:,1], df.values[:,0])\n",
    "plt.plot(df.values[:,1], slope*df.values[:,1]+intercept, c='r',\n",
    "        label=' Наклон: %s \\n p-value: %s'%(np.round(slope, 3), np.round(pval, decimals=3)))\n",
    "plt.title('Зависимость объема продаж от розничной цены')\n",
    "plt.xlabel('Розничная цена')\n",
    "ax.legend(bbox_to_anchor=(1.05, 1), loc=2, borderaxespad=2, fontsize=12)\n",
    "_=plt.ylabel('Объем продаж')"
   ]
  },
  {
   "cell_type": "markdown",
   "metadata": {},
   "source": [
    "Наклон регрессионной прямой отрицательный, зависимость между розничной ценой и объемом продаж обратная: чем меньше цена на товар, тем больше его покупают.\n",
    "\n",
    "Слева от графика приведен нестандартизированный наклон и p-value для него."
   ]
  },
  {
   "cell_type": "markdown",
   "metadata": {},
   "source": [
    "## Зависимость объема продаж от расходов на рекламу"
   ]
  },
  {
   "cell_type": "code",
   "execution_count": 36,
   "metadata": {},
   "outputs": [
    {
     "data": {
      "text/html": [
       "<table class=\"simpletable\">\n",
       "<caption>OLS Regression Results</caption>\n",
       "<tr>\n",
       "  <th>Dep. Variable:</th>            <td>y</td>        <th>  R-squared:         </th> <td>   0.649</td>\n",
       "</tr>\n",
       "<tr>\n",
       "  <th>Model:</th>                   <td>OLS</td>       <th>  Adj. R-squared:    </th> <td>   0.599</td>\n",
       "</tr>\n",
       "<tr>\n",
       "  <th>Method:</th>             <td>Least Squares</td>  <th>  F-statistic:       </th> <td>   12.94</td>\n",
       "</tr>\n",
       "<tr>\n",
       "  <th>Date:</th>             <td>Sun, 27 May 2018</td> <th>  Prob (F-statistic):</th>  <td>0.00877</td>\n",
       "</tr>\n",
       "<tr>\n",
       "  <th>Time:</th>                 <td>16:10:58</td>     <th>  Log-Likelihood:    </th> <td> -7.1644</td>\n",
       "</tr>\n",
       "<tr>\n",
       "  <th>No. Observations:</th>      <td>     8</td>      <th>  AIC:               </th> <td>   16.33</td>\n",
       "</tr>\n",
       "<tr>\n",
       "  <th>Df Residuals:</th>          <td>     7</td>      <th>  BIC:               </th> <td>   16.41</td>\n",
       "</tr>\n",
       "<tr>\n",
       "  <th>Df Model:</th>              <td>     1</td>      <th>                     </th>     <td> </td>   \n",
       "</tr>\n",
       "<tr>\n",
       "  <th>Covariance Type:</th>      <td>nonrobust</td>    <th>                     </th>     <td> </td>   \n",
       "</tr>\n",
       "</table>\n",
       "<table class=\"simpletable\">\n",
       "<tr>\n",
       "   <td></td>     <th>coef</th>     <th>std err</th>      <th>t</th>      <th>P>|t|</th>  <th>[0.025</th>    <th>0.975]</th>  \n",
       "</tr>\n",
       "<tr>\n",
       "  <th>x1</th> <td>    0.8056</td> <td>    0.224</td> <td>    3.597</td> <td> 0.009</td> <td>    0.276</td> <td>    1.335</td>\n",
       "</tr>\n",
       "</table>\n",
       "<table class=\"simpletable\">\n",
       "<tr>\n",
       "  <th>Omnibus:</th>       <td> 0.738</td> <th>  Durbin-Watson:     </th> <td>   2.002</td>\n",
       "</tr>\n",
       "<tr>\n",
       "  <th>Prob(Omnibus):</th> <td> 0.691</td> <th>  Jarque-Bera (JB):  </th> <td>   0.545</td>\n",
       "</tr>\n",
       "<tr>\n",
       "  <th>Skew:</th>          <td> 0.176</td> <th>  Prob(JB):          </th> <td>   0.761</td>\n",
       "</tr>\n",
       "<tr>\n",
       "  <th>Kurtosis:</th>      <td> 1.770</td> <th>  Cond. No.          </th> <td>    1.00</td>\n",
       "</tr>\n",
       "</table>"
      ],
      "text/plain": [
       "<class 'statsmodels.iolib.summary.Summary'>\n",
       "\"\"\"\n",
       "                            OLS Regression Results                            \n",
       "==============================================================================\n",
       "Dep. Variable:                      y   R-squared:                       0.649\n",
       "Model:                            OLS   Adj. R-squared:                  0.599\n",
       "Method:                 Least Squares   F-statistic:                     12.94\n",
       "Date:                Sun, 27 May 2018   Prob (F-statistic):            0.00877\n",
       "Time:                        16:10:58   Log-Likelihood:                -7.1644\n",
       "No. Observations:                   8   AIC:                             16.33\n",
       "Df Residuals:                       7   BIC:                             16.41\n",
       "Df Model:                           1                                         \n",
       "Covariance Type:            nonrobust                                         \n",
       "==============================================================================\n",
       "                 coef    std err          t      P>|t|      [0.025      0.975]\n",
       "------------------------------------------------------------------------------\n",
       "x1             0.8056      0.224      3.597      0.009       0.276       1.335\n",
       "==============================================================================\n",
       "Omnibus:                        0.738   Durbin-Watson:                   2.002\n",
       "Prob(Omnibus):                  0.691   Jarque-Bera (JB):                0.545\n",
       "Skew:                           0.176   Prob(JB):                        0.761\n",
       "Kurtosis:                       1.770   Cond. No.                         1.00\n",
       "==============================================================================\n",
       "\n",
       "Warnings:\n",
       "[1] Standard Errors assume that the covariance matrix of the errors is correctly specified.\n",
       "\"\"\""
      ]
     },
     "execution_count": 36,
     "metadata": {},
     "output_type": "execute_result"
    }
   ],
   "source": [
    "model=sm.OLS(standartized[:,0], standartized[:,2]).fit()\n",
    "model.summary()"
   ]
  },
  {
   "cell_type": "markdown",
   "metadata": {},
   "source": [
    "Коэффициент детерминации (**R-squared**) равен **0.649**, а также статистически значим **p-value << 0.05** (**Prob (F-statistic)**). Результаты регрессионного анализа признаются значимыми.\n",
    "\n",
    "Коэффициент детерминации меньше, чем в предыдущем случае, значит, что объем продаж объясняется затратами на рекламу не так хорошо, как розничной ценой товаров.\n",
    "\n",
    "Ниже в таблице приведен стандартизированный коэффициент наклона регрессионной прямой, **0.8056** (**x1, coef**). А также p-value для него (**P>[t]**). \n",
    "\n",
    "**p-value << 0.05**, полученный наклон статистически значимый."
   ]
  },
  {
   "cell_type": "code",
   "execution_count": 97,
   "metadata": {},
   "outputs": [
    {
     "data": {
      "image/png": "[encoded data removed]",
      "text/plain": [
       "<matplotlib.figure.Figure at 0x7fd52a836e80>"
      ]
     },
     "metadata": {},
     "output_type": "display_data"
    }
   ],
   "source": [
    "slope, intercept, rval, pval, stderr=st.linregress(df.values[:,2], df.values[:,0])\n",
    "\n",
    "sns.set()\n",
    "fig=plt.figure(figsize=[10, 8])\n",
    "ax=plt.subplot(1, 1, 1)\n",
    "plt.scatter(df.values[:,2], df.values[:,0])\n",
    "plt.plot(df.values[:,2], slope*df.values[:,2]+intercept, c='r',\n",
    "        label=' Наклон: %s \\n p-value: %s'%(np.round(slope, 3), np.round(pval, decimals=3)))\n",
    "plt.title('Зависимость объема продаж от расходов на рекламу')\n",
    "plt.xlabel('Расходы на рекламу')\n",
    "ax.legend(bbox_to_anchor=(1.05, 1), loc=2, borderaxespad=2, fontsize=12)\n",
    "_=plt.ylabel('Объем продаж')"
   ]
  },
  {
   "cell_type": "markdown",
   "metadata": {},
   "source": [
    "Наклон регрессионной прямой положительный, зависимость прямая: с увеличением расходов на рекламу увеличивается и объем проданного товара.\n",
    "\n",
    "Слева от графика приведен нестандартизированный наклон и p-value для него."
   ]
  },
  {
   "cell_type": "markdown",
   "metadata": {},
   "source": [
    "## Зависимость объема продаж от количества работников, занимающихся сбытом продукции"
   ]
  },
  {
   "cell_type": "code",
   "execution_count": 41,
   "metadata": {},
   "outputs": [
    {
     "data": {
      "text/html": [
       "<table class=\"simpletable\">\n",
       "<caption>OLS Regression Results</caption>\n",
       "<tr>\n",
       "  <th>Dep. Variable:</th>            <td>y</td>        <th>  R-squared:         </th> <td>   0.330</td>\n",
       "</tr>\n",
       "<tr>\n",
       "  <th>Model:</th>                   <td>OLS</td>       <th>  Adj. R-squared:    </th> <td>   0.234</td>\n",
       "</tr>\n",
       "<tr>\n",
       "  <th>Method:</th>             <td>Least Squares</td>  <th>  F-statistic:       </th> <td>   3.445</td>\n",
       "</tr>\n",
       "<tr>\n",
       "  <th>Date:</th>             <td>Sun, 27 May 2018</td> <th>  Prob (F-statistic):</th>  <td> 0.106</td> \n",
       "</tr>\n",
       "<tr>\n",
       "  <th>Time:</th>                 <td>16:13:33</td>     <th>  Log-Likelihood:    </th> <td> -9.7507</td>\n",
       "</tr>\n",
       "<tr>\n",
       "  <th>No. Observations:</th>      <td>     8</td>      <th>  AIC:               </th> <td>   21.50</td>\n",
       "</tr>\n",
       "<tr>\n",
       "  <th>Df Residuals:</th>          <td>     7</td>      <th>  BIC:               </th> <td>   21.58</td>\n",
       "</tr>\n",
       "<tr>\n",
       "  <th>Df Model:</th>              <td>     1</td>      <th>                     </th>     <td> </td>   \n",
       "</tr>\n",
       "<tr>\n",
       "  <th>Covariance Type:</th>      <td>nonrobust</td>    <th>                     </th>     <td> </td>   \n",
       "</tr>\n",
       "</table>\n",
       "<table class=\"simpletable\">\n",
       "<tr>\n",
       "   <td></td>     <th>coef</th>     <th>std err</th>      <th>t</th>      <th>P>|t|</th>  <th>[0.025</th>    <th>0.975]</th>  \n",
       "</tr>\n",
       "<tr>\n",
       "  <th>x1</th> <td>    0.5743</td> <td>    0.309</td> <td>    1.856</td> <td> 0.106</td> <td>   -0.157</td> <td>    1.306</td>\n",
       "</tr>\n",
       "</table>\n",
       "<table class=\"simpletable\">\n",
       "<tr>\n",
       "  <th>Omnibus:</th>       <td> 1.172</td> <th>  Durbin-Watson:     </th> <td>   2.696</td>\n",
       "</tr>\n",
       "<tr>\n",
       "  <th>Prob(Omnibus):</th> <td> 0.557</td> <th>  Jarque-Bera (JB):  </th> <td>   0.628</td>\n",
       "</tr>\n",
       "<tr>\n",
       "  <th>Skew:</th>          <td> 0.126</td> <th>  Prob(JB):          </th> <td>   0.730</td>\n",
       "</tr>\n",
       "<tr>\n",
       "  <th>Kurtosis:</th>      <td> 1.651</td> <th>  Cond. No.          </th> <td>    1.00</td>\n",
       "</tr>\n",
       "</table>"
      ],
      "text/plain": [
       "<class 'statsmodels.iolib.summary.Summary'>\n",
       "\"\"\"\n",
       "                            OLS Regression Results                            \n",
       "==============================================================================\n",
       "Dep. Variable:                      y   R-squared:                       0.330\n",
       "Model:                            OLS   Adj. R-squared:                  0.234\n",
       "Method:                 Least Squares   F-statistic:                     3.445\n",
       "Date:                Sun, 27 May 2018   Prob (F-statistic):              0.106\n",
       "Time:                        16:13:33   Log-Likelihood:                -9.7507\n",
       "No. Observations:                   8   AIC:                             21.50\n",
       "Df Residuals:                       7   BIC:                             21.58\n",
       "Df Model:                           1                                         \n",
       "Covariance Type:            nonrobust                                         \n",
       "==============================================================================\n",
       "                 coef    std err          t      P>|t|      [0.025      0.975]\n",
       "------------------------------------------------------------------------------\n",
       "x1             0.5743      0.309      1.856      0.106      -0.157       1.306\n",
       "==============================================================================\n",
       "Omnibus:                        1.172   Durbin-Watson:                   2.696\n",
       "Prob(Omnibus):                  0.557   Jarque-Bera (JB):                0.628\n",
       "Skew:                           0.126   Prob(JB):                        0.730\n",
       "Kurtosis:                       1.651   Cond. No.                         1.00\n",
       "==============================================================================\n",
       "\n",
       "Warnings:\n",
       "[1] Standard Errors assume that the covariance matrix of the errors is correctly specified.\n",
       "\"\"\""
      ]
     },
     "execution_count": 41,
     "metadata": {},
     "output_type": "execute_result"
    }
   ],
   "source": [
    "model=sm.OLS(standartized[:,0], standartized[:,3]).fit()\n",
    "model.summary()"
   ]
  },
  {
   "cell_type": "markdown",
   "metadata": {},
   "source": [
    "Для данной модели имеем самое низкое значение коэффициента детерминации (**R-sqared**), 0.330. Также данный результат статистически не значим при уровне значимости 0.05.\n",
    "\n",
    "Ниже в таблице приведен стандартизированный коэффициент наклона регрессионной прямой, **0.5743** (**x1, coef**). А также p-value для него (**P>[t]**). **p-value > 0.05**.\n",
    "\n",
    "Мы не можем признать результаты регрессионого анализа значимыми."
   ]
  },
  {
   "cell_type": "code",
   "execution_count": 101,
   "metadata": {},
   "outputs": [
    {
     "data": {
      "image/png": "[encoded data removed]",
      "text/plain": [
       "<matplotlib.figure.Figure at 0x7fd5291ece10>"
      ]
     },
     "metadata": {},
     "output_type": "display_data"
    }
   ],
   "source": [
    "slope, intercept, rval, pval, stderr=st.linregress(standartized[:,3], standartized[:,0])\n",
    "\n",
    "sns.set()\n",
    "fig=plt.figure(figsize=[10, 8])\n",
    "ax=plt.subplot(1, 1, 1)\n",
    "plt.scatter(standartized[:,3], standartized[:,0])\n",
    "plt.plot(standartized[:,3], slope*standartized[:,3]+intercept, c='r',\n",
    "        label=' Наклон: %s \\n p-value: %s'%(np.round(slope, 3), np.round(pval, decimals=3)))\n",
    "plt.title('Зависимость объема продаж от количества работников, занимающихся сбытом продукции')\n",
    "plt.xlabel('Количество работников')\n",
    "ax.legend(bbox_to_anchor=(1.05, 1), loc=2, borderaxespad=2, fontsize=12)\n",
    "_=plt.ylabel('Объем продаж')"
   ]
  },
  {
   "cell_type": "markdown",
   "metadata": {},
   "source": [
    "Хотя зависимость положительная, мы не можем утверждать, что с увеличением числа работников, занятых распространением продукции, растет объем продаж, поскольку данный результат статистически не значим на уровне значимости 0.05. Мы не можем отвергнуть нулевую гипотезу о равенстве коэффициента наклона нулю."
   ]
  }
 ],
 "metadata": {
  "kernelspec": {
   "display_name": "Python 3",
   "language": "python",
   "name": "python3"
  },
  "language_info": {
   "codemirror_mode": {
    "name": "ipython",
    "version": 3
   },
   "file_extension": ".py",
   "mimetype": "text/x-python",
   "name": "python",
   "nbconvert_exporter": "python",
   "pygments_lexer": "ipython3",
   "version": "3.6.4"
  }
 },
 "nbformat": 4,
 "nbformat_minor": 2
}
