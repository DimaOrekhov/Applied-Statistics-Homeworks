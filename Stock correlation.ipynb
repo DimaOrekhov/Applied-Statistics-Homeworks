{
 "cells": [
  {
   "cell_type": "markdown",
   "metadata": {},
   "source": [
    "## Корреляционный анализ\n",
    "\n",
    "В отчете используются данные об изменений цен акций компаний из индекса S&P 500 на протяжении 5 лет: с февраля 2013 по фераль 2018. Данные можно скачать отсюда: https://www.kaggle.com/camnugent/sandp500."
   ]
  },
  {
   "cell_type": "markdown",
   "metadata": {},
   "source": [
    "Импортируем необходимые библиотеки:\n",
    "\n",
    "** numpy ** - для работы с массивами данных\n",
    "\n",
    "** pandas ** - для работы с данными, представленными в табличном виде\n",
    "\n",
    "** matplotlib и seaborn** - для визуализации данных\n",
    "\n",
    "** модуль stats библиотеки scipy** - непосредственно для статистического анализа"
   ]
  },
  {
   "cell_type": "code",
   "execution_count": 1,
   "metadata": {
    "collapsed": true
   },
   "outputs": [],
   "source": [
    "import numpy as np\n",
    "import pandas as pd\n",
    "import matplotlib.pyplot as plt\n",
    "%matplotlib inline\n",
    "plt.rcParams['figure.figsize']=[10,7]\n",
    "import seaborn as sns\n",
    "sns.set()\n",
    "import scipy.stats as st"
   ]
  },
  {
   "cell_type": "markdown",
   "metadata": {},
   "source": [
    "Методы .pdf и .cdf позволяют получить для интерсующей статистики значение функции плотности вероятности или функции распределения. В данном случае мы рассматриваем t-распределение."
   ]
  },
  {
   "cell_type": "code",
   "execution_count": 15,
   "metadata": {},
   "outputs": [
    {
     "data": {
      "text/plain": [
       "[<matplotlib.lines.Line2D at 0x1d569e304a8>]"
      ]
     },
     "execution_count": 15,
     "metadata": {},
     "output_type": "execute_result"
    },
    {
     "data": {
      "image/png": "[encoded data removed]",
      "text/plain": [
       "<Figure size 432x288 with 2 Axes>"
      ]
     },
     "metadata": {},
     "output_type": "display_data"
    }
   ],
   "source": [
    "x=np.linspace(-4, 4, 100)\n",
    "y=st.t.pdf(x, df=50-2)\n",
    "y_c=st.t.cdf(x, df=50-2)\n",
    "f, (ax1, ax2)=plt.subplots(2, 1)\n",
    "ax1.plot(x, y)\n",
    "ax2.plot(x, y_c)"
   ]
  },
  {
   "cell_type": "markdown",
   "metadata": {},
   "source": [
    "Считываем данные и конвертируем индексы из текстового формата в формат datetime, предназначенный для работы с временными данными."
   ]
  },
  {
   "cell_type": "code",
   "execution_count": 2,
   "metadata": {},
   "outputs": [
    {
     "name": "stderr",
     "output_type": "stream",
     "text": [
      "C:\\Users\\Dmitry\\Anaconda3\\lib\\site-packages\\ipykernel_launcher.py:2: FutureWarning: to_datetime is deprecated. Use pd.to_datetime(...)\n",
      "  \n"
     ]
    }
   ],
   "source": [
    "sp500=pd.read_csv('data/sandp500/all_stocks_5yr.csv', index_col='date')\n",
    "sp500.index=sp500.index.to_datetime()"
   ]
  },
  {
   "cell_type": "markdown",
   "metadata": {},
   "source": [
    "Посмотрим, как выглядят данные. Отельный ряд содержит информацию о ценах открытия и закрытия, наивысшую и наименьшую цены акций, а также капитализацию компании в определенный день."
   ]
  },
  {
   "cell_type": "code",
   "execution_count": 53,
   "metadata": {},
   "outputs": [
    {
     "data": {
      "text/html": [
       "<div>\n",
       "<style scoped>\n",
       "    .dataframe tbody tr th:only-of-type {\n",
       "        vertical-align: middle;\n",
       "    }\n",
       "\n",
       "    .dataframe tbody tr th {\n",
       "        vertical-align: top;\n",
       "    }\n",
       "\n",
       "    .dataframe thead th {\n",
       "        text-align: right;\n",
       "    }\n",
       "</style>\n",
       "<table border=\"1\" class=\"dataframe\">\n",
       "  <thead>\n",
       "    <tr style=\"text-align: right;\">\n",
       "      <th></th>\n",
       "      <th>open</th>\n",
       "      <th>high</th>\n",
       "      <th>low</th>\n",
       "      <th>close</th>\n",
       "      <th>volume</th>\n",
       "      <th>Name</th>\n",
       "    </tr>\n",
       "  </thead>\n",
       "  <tbody>\n",
       "    <tr>\n",
       "      <th>2013-02-08</th>\n",
       "      <td>15.07</td>\n",
       "      <td>15.12</td>\n",
       "      <td>14.63</td>\n",
       "      <td>14.75</td>\n",
       "      <td>8407500</td>\n",
       "      <td>AAL</td>\n",
       "    </tr>\n",
       "    <tr>\n",
       "      <th>2013-02-11</th>\n",
       "      <td>14.89</td>\n",
       "      <td>15.01</td>\n",
       "      <td>14.26</td>\n",
       "      <td>14.46</td>\n",
       "      <td>8882000</td>\n",
       "      <td>AAL</td>\n",
       "    </tr>\n",
       "    <tr>\n",
       "      <th>2013-02-12</th>\n",
       "      <td>14.45</td>\n",
       "      <td>14.51</td>\n",
       "      <td>14.10</td>\n",
       "      <td>14.27</td>\n",
       "      <td>8126000</td>\n",
       "      <td>AAL</td>\n",
       "    </tr>\n",
       "    <tr>\n",
       "      <th>2013-02-13</th>\n",
       "      <td>14.30</td>\n",
       "      <td>14.94</td>\n",
       "      <td>14.25</td>\n",
       "      <td>14.66</td>\n",
       "      <td>10259500</td>\n",
       "      <td>AAL</td>\n",
       "    </tr>\n",
       "    <tr>\n",
       "      <th>2013-02-14</th>\n",
       "      <td>14.94</td>\n",
       "      <td>14.96</td>\n",
       "      <td>13.16</td>\n",
       "      <td>13.99</td>\n",
       "      <td>31879900</td>\n",
       "      <td>AAL</td>\n",
       "    </tr>\n",
       "  </tbody>\n",
       "</table>\n",
       "</div>"
      ],
      "text/plain": [
       "             open   high    low  close    volume Name\n",
       "2013-02-08  15.07  15.12  14.63  14.75   8407500  AAL\n",
       "2013-02-11  14.89  15.01  14.26  14.46   8882000  AAL\n",
       "2013-02-12  14.45  14.51  14.10  14.27   8126000  AAL\n",
       "2013-02-13  14.30  14.94  14.25  14.66  10259500  AAL\n",
       "2013-02-14  14.94  14.96  13.16  13.99  31879900  AAL"
      ]
     },
     "execution_count": 53,
     "metadata": {},
     "output_type": "execute_result"
    }
   ],
   "source": [
    "sp500.head()"
   ]
  },
  {
   "cell_type": "markdown",
   "metadata": {},
   "source": [
    "Создадим список интересующих нас компаний, я выбрал Apple, Microsoft, Amazon, Coca-Cola, Pepsi и General Motors."
   ]
  },
  {
   "cell_type": "code",
   "execution_count": 3,
   "metadata": {},
   "outputs": [],
   "source": [
    "companies=['AAPL', 'MSFT', 'AMZN', 'KO', 'PEP', 'GM']"
   ]
  },
  {
   "cell_type": "markdown",
   "metadata": {},
   "source": [
    "Небольшой скрипт для преобразования таблицы."
   ]
  },
  {
   "cell_type": "code",
   "execution_count": 4,
   "metadata": {
    "collapsed": true
   },
   "outputs": [],
   "source": [
    "filtered=sp500[sp500['Name'].isin(companies)]\n",
    "\n",
    "from collections import defaultdict\n",
    "dates=defaultdict(list)\n",
    "for i in filtered.iterrows():\n",
    "    dates[i[0]].append(i[1]['close'])\n",
    "time_series=pd.DataFrame(dates)"
   ]
  },
  {
   "cell_type": "code",
   "execution_count": 6,
   "metadata": {
    "collapsed": true
   },
   "outputs": [],
   "source": [
    "time_series.index=sorted(companies)\n",
    "time_series=time_series.transpose()"
   ]
  },
  {
   "cell_type": "markdown",
   "metadata": {},
   "source": [
    "Так выглядят данные теперь, каждый ряд соответсвует определенному дню, колонки компаниям. На пересечении колонки и ряда находится цена на закрытии торгов."
   ]
  },
  {
   "cell_type": "code",
   "execution_count": 52,
   "metadata": {},
   "outputs": [
    {
     "data": {
      "text/html": [
       "<div>\n",
       "<style scoped>\n",
       "    .dataframe tbody tr th:only-of-type {\n",
       "        vertical-align: middle;\n",
       "    }\n",
       "\n",
       "    .dataframe tbody tr th {\n",
       "        vertical-align: top;\n",
       "    }\n",
       "\n",
       "    .dataframe thead th {\n",
       "        text-align: right;\n",
       "    }\n",
       "</style>\n",
       "<table border=\"1\" class=\"dataframe\">\n",
       "  <thead>\n",
       "    <tr style=\"text-align: right;\">\n",
       "      <th></th>\n",
       "      <th>AAPL</th>\n",
       "      <th>AMZN</th>\n",
       "      <th>GM</th>\n",
       "      <th>KO</th>\n",
       "      <th>MSFT</th>\n",
       "      <th>PEP</th>\n",
       "    </tr>\n",
       "  </thead>\n",
       "  <tbody>\n",
       "    <tr>\n",
       "      <th>2013-02-08</th>\n",
       "      <td>67.8542</td>\n",
       "      <td>261.95</td>\n",
       "      <td>28.57</td>\n",
       "      <td>38.77</td>\n",
       "      <td>27.55</td>\n",
       "      <td>72.60</td>\n",
       "    </tr>\n",
       "    <tr>\n",
       "      <th>2013-02-11</th>\n",
       "      <td>68.5614</td>\n",
       "      <td>257.21</td>\n",
       "      <td>28.53</td>\n",
       "      <td>38.61</td>\n",
       "      <td>27.86</td>\n",
       "      <td>72.36</td>\n",
       "    </tr>\n",
       "    <tr>\n",
       "      <th>2013-02-12</th>\n",
       "      <td>66.8428</td>\n",
       "      <td>258.70</td>\n",
       "      <td>28.55</td>\n",
       "      <td>37.56</td>\n",
       "      <td>27.88</td>\n",
       "      <td>72.17</td>\n",
       "    </tr>\n",
       "    <tr>\n",
       "      <th>2013-02-13</th>\n",
       "      <td>66.7156</td>\n",
       "      <td>269.47</td>\n",
       "      <td>28.67</td>\n",
       "      <td>37.21</td>\n",
       "      <td>28.03</td>\n",
       "      <td>71.50</td>\n",
       "    </tr>\n",
       "    <tr>\n",
       "      <th>2013-02-14</th>\n",
       "      <td>66.6556</td>\n",
       "      <td>269.24</td>\n",
       "      <td>27.75</td>\n",
       "      <td>36.84</td>\n",
       "      <td>28.04</td>\n",
       "      <td>72.28</td>\n",
       "    </tr>\n",
       "  </tbody>\n",
       "</table>\n",
       "</div>"
      ],
      "text/plain": [
       "               AAPL    AMZN     GM     KO   MSFT    PEP\n",
       "2013-02-08  67.8542  261.95  28.57  38.77  27.55  72.60\n",
       "2013-02-11  68.5614  257.21  28.53  38.61  27.86  72.36\n",
       "2013-02-12  66.8428  258.70  28.55  37.56  27.88  72.17\n",
       "2013-02-13  66.7156  269.47  28.67  37.21  28.03  71.50\n",
       "2013-02-14  66.6556  269.24  27.75  36.84  28.04  72.28"
      ]
     },
     "execution_count": 52,
     "metadata": {},
     "output_type": "execute_result"
    }
   ],
   "source": [
    "time_series.head()"
   ]
  },
  {
   "cell_type": "markdown",
   "metadata": {},
   "source": [
    "Метод объекта DataFrame .corr позволяет получиться корреляционную матрицу. Как и ожидалось, цены на акции IT-компаний сильно коррелируют друг с другом, также как и акции Кока-Кола и Пепси, когда как General Motors имеет самые низкие коэффициенты корреляции с остальными:"
   ]
  },
  {
   "cell_type": "code",
   "execution_count": 8,
   "metadata": {},
   "outputs": [
    {
     "data": {
      "text/html": [
       "<div>\n",
       "<style scoped>\n",
       "    .dataframe tbody tr th:only-of-type {\n",
       "        vertical-align: middle;\n",
       "    }\n",
       "\n",
       "    .dataframe tbody tr th {\n",
       "        vertical-align: top;\n",
       "    }\n",
       "\n",
       "    .dataframe thead th {\n",
       "        text-align: right;\n",
       "    }\n",
       "</style>\n",
       "<table border=\"1\" class=\"dataframe\">\n",
       "  <thead>\n",
       "    <tr style=\"text-align: right;\">\n",
       "      <th></th>\n",
       "      <th>AAPL</th>\n",
       "      <th>AMZN</th>\n",
       "      <th>GM</th>\n",
       "      <th>KO</th>\n",
       "      <th>MSFT</th>\n",
       "      <th>PEP</th>\n",
       "    </tr>\n",
       "  </thead>\n",
       "  <tbody>\n",
       "    <tr>\n",
       "      <th>AAPL</th>\n",
       "      <td>1.000000</td>\n",
       "      <td>0.819078</td>\n",
       "      <td>0.451701</td>\n",
       "      <td>0.661642</td>\n",
       "      <td>0.899689</td>\n",
       "      <td>0.892922</td>\n",
       "    </tr>\n",
       "    <tr>\n",
       "      <th>AMZN</th>\n",
       "      <td>0.819078</td>\n",
       "      <td>1.000000</td>\n",
       "      <td>0.376996</td>\n",
       "      <td>0.723407</td>\n",
       "      <td>0.955977</td>\n",
       "      <td>0.906256</td>\n",
       "    </tr>\n",
       "    <tr>\n",
       "      <th>GM</th>\n",
       "      <td>0.451701</td>\n",
       "      <td>0.376996</td>\n",
       "      <td>1.000000</td>\n",
       "      <td>0.190191</td>\n",
       "      <td>0.440992</td>\n",
       "      <td>0.251746</td>\n",
       "    </tr>\n",
       "    <tr>\n",
       "      <th>KO</th>\n",
       "      <td>0.661642</td>\n",
       "      <td>0.723407</td>\n",
       "      <td>0.190191</td>\n",
       "      <td>1.000000</td>\n",
       "      <td>0.775392</td>\n",
       "      <td>0.823330</td>\n",
       "    </tr>\n",
       "    <tr>\n",
       "      <th>MSFT</th>\n",
       "      <td>0.899689</td>\n",
       "      <td>0.955977</td>\n",
       "      <td>0.440992</td>\n",
       "      <td>0.775392</td>\n",
       "      <td>1.000000</td>\n",
       "      <td>0.936613</td>\n",
       "    </tr>\n",
       "    <tr>\n",
       "      <th>PEP</th>\n",
       "      <td>0.892922</td>\n",
       "      <td>0.906256</td>\n",
       "      <td>0.251746</td>\n",
       "      <td>0.823330</td>\n",
       "      <td>0.936613</td>\n",
       "      <td>1.000000</td>\n",
       "    </tr>\n",
       "  </tbody>\n",
       "</table>\n",
       "</div>"
      ],
      "text/plain": [
       "          AAPL      AMZN        GM        KO      MSFT       PEP\n",
       "AAPL  1.000000  0.819078  0.451701  0.661642  0.899689  0.892922\n",
       "AMZN  0.819078  1.000000  0.376996  0.723407  0.955977  0.906256\n",
       "GM    0.451701  0.376996  1.000000  0.190191  0.440992  0.251746\n",
       "KO    0.661642  0.723407  0.190191  1.000000  0.775392  0.823330\n",
       "MSFT  0.899689  0.955977  0.440992  0.775392  1.000000  0.936613\n",
       "PEP   0.892922  0.906256  0.251746  0.823330  0.936613  1.000000"
      ]
     },
     "execution_count": 8,
     "metadata": {},
     "output_type": "execute_result"
    }
   ],
   "source": [
    "time_series.corr()"
   ]
  },
  {
   "cell_type": "markdown",
   "metadata": {},
   "source": [
    "Функция подсчета t-статистики для подсчитанных коэффициентов корреляции."
   ]
  },
  {
   "cell_type": "code",
   "execution_count": 9,
   "metadata": {
    "collapsed": true
   },
   "outputs": [],
   "source": [
    "def get_t_values(corr_mat, n):\n",
    "    rs=corr_mat\n",
    "    t_values=rs/np.sqrt(1-rs**2)*np.sqrt(n-2)\n",
    "    return t_values"
   ]
  },
  {
   "cell_type": "code",
   "execution_count": 10,
   "metadata": {},
   "outputs": [
    {
     "data": {
      "text/html": [
       "<div>\n",
       "<style scoped>\n",
       "    .dataframe tbody tr th:only-of-type {\n",
       "        vertical-align: middle;\n",
       "    }\n",
       "\n",
       "    .dataframe tbody tr th {\n",
       "        vertical-align: top;\n",
       "    }\n",
       "\n",
       "    .dataframe thead th {\n",
       "        text-align: right;\n",
       "    }\n",
       "</style>\n",
       "<table border=\"1\" class=\"dataframe\">\n",
       "  <thead>\n",
       "    <tr style=\"text-align: right;\">\n",
       "      <th></th>\n",
       "      <th>AAPL</th>\n",
       "      <th>AMZN</th>\n",
       "      <th>GM</th>\n",
       "      <th>KO</th>\n",
       "      <th>MSFT</th>\n",
       "      <th>PEP</th>\n",
       "    </tr>\n",
       "  </thead>\n",
       "  <tbody>\n",
       "    <tr>\n",
       "      <th>AAPL</th>\n",
       "      <td>inf</td>\n",
       "      <td>50.620008</td>\n",
       "      <td>17.950297</td>\n",
       "      <td>31.284832</td>\n",
       "      <td>73.071096</td>\n",
       "      <td>70.317568</td>\n",
       "    </tr>\n",
       "    <tr>\n",
       "      <th>AMZN</th>\n",
       "      <td>50.620008</td>\n",
       "      <td>inf</td>\n",
       "      <td>14.430853</td>\n",
       "      <td>37.148064</td>\n",
       "      <td>115.503393</td>\n",
       "      <td>76.007324</td>\n",
       "    </tr>\n",
       "    <tr>\n",
       "      <th>GM</th>\n",
       "      <td>17.950297</td>\n",
       "      <td>14.430853</td>\n",
       "      <td>inf</td>\n",
       "      <td>6.868433</td>\n",
       "      <td>17.420435</td>\n",
       "      <td>9.222461</td>\n",
       "    </tr>\n",
       "    <tr>\n",
       "      <th>KO</th>\n",
       "      <td>31.284832</td>\n",
       "      <td>37.148064</td>\n",
       "      <td>6.868433</td>\n",
       "      <td>inf</td>\n",
       "      <td>43.534056</td>\n",
       "      <td>51.431340</td>\n",
       "    </tr>\n",
       "    <tr>\n",
       "      <th>MSFT</th>\n",
       "      <td>73.071096</td>\n",
       "      <td>115.503393</td>\n",
       "      <td>17.420435</td>\n",
       "      <td>43.534056</td>\n",
       "      <td>inf</td>\n",
       "      <td>94.777491</td>\n",
       "    </tr>\n",
       "    <tr>\n",
       "      <th>PEP</th>\n",
       "      <td>70.317568</td>\n",
       "      <td>76.007324</td>\n",
       "      <td>9.222461</td>\n",
       "      <td>51.431340</td>\n",
       "      <td>94.777491</td>\n",
       "      <td>inf</td>\n",
       "    </tr>\n",
       "  </tbody>\n",
       "</table>\n",
       "</div>"
      ],
      "text/plain": [
       "           AAPL        AMZN         GM         KO        MSFT        PEP\n",
       "AAPL        inf   50.620008  17.950297  31.284832   73.071096  70.317568\n",
       "AMZN  50.620008         inf  14.430853  37.148064  115.503393  76.007324\n",
       "GM    17.950297   14.430853        inf   6.868433   17.420435   9.222461\n",
       "KO    31.284832   37.148064   6.868433        inf   43.534056  51.431340\n",
       "MSFT  73.071096  115.503393  17.420435  43.534056         inf  94.777491\n",
       "PEP   70.317568   76.007324   9.222461  51.431340   94.777491        inf"
      ]
     },
     "execution_count": 10,
     "metadata": {},
     "output_type": "execute_result"
    }
   ],
   "source": [
    "n=len(time_series)\n",
    "ts=get_t_values(time_series.corr(), n)\n",
    "ts"
   ]
  },
  {
   "cell_type": "markdown",
   "metadata": {},
   "source": [
    "p-values для полученных статистик."
   ]
  },
  {
   "cell_type": "code",
   "execution_count": 49,
   "metadata": {},
   "outputs": [
    {
     "data": {
      "text/html": [
       "<div>\n",
       "<style scoped>\n",
       "    .dataframe tbody tr th:only-of-type {\n",
       "        vertical-align: middle;\n",
       "    }\n",
       "\n",
       "    .dataframe tbody tr th {\n",
       "        vertical-align: top;\n",
       "    }\n",
       "\n",
       "    .dataframe thead th {\n",
       "        text-align: right;\n",
       "    }\n",
       "</style>\n",
       "<table border=\"1\" class=\"dataframe\">\n",
       "  <thead>\n",
       "    <tr style=\"text-align: right;\">\n",
       "      <th></th>\n",
       "      <th>AAPL</th>\n",
       "      <th>AMZN</th>\n",
       "      <th>GM</th>\n",
       "      <th>KO</th>\n",
       "      <th>MSFT</th>\n",
       "      <th>PEP</th>\n",
       "    </tr>\n",
       "  </thead>\n",
       "  <tbody>\n",
       "    <tr>\n",
       "      <th>AAPL</th>\n",
       "      <td>0.0</td>\n",
       "      <td>0.0</td>\n",
       "      <td>0.000000e+00</td>\n",
       "      <td>0.000000e+00</td>\n",
       "      <td>0.0</td>\n",
       "      <td>0.000000e+00</td>\n",
       "    </tr>\n",
       "    <tr>\n",
       "      <th>AMZN</th>\n",
       "      <td>0.0</td>\n",
       "      <td>0.0</td>\n",
       "      <td>0.000000e+00</td>\n",
       "      <td>0.000000e+00</td>\n",
       "      <td>0.0</td>\n",
       "      <td>0.000000e+00</td>\n",
       "    </tr>\n",
       "    <tr>\n",
       "      <th>GM</th>\n",
       "      <td>0.0</td>\n",
       "      <td>0.0</td>\n",
       "      <td>0.000000e+00</td>\n",
       "      <td>5.998286e-10</td>\n",
       "      <td>0.0</td>\n",
       "      <td>5.884182e-15</td>\n",
       "    </tr>\n",
       "    <tr>\n",
       "      <th>KO</th>\n",
       "      <td>0.0</td>\n",
       "      <td>0.0</td>\n",
       "      <td>5.998286e-10</td>\n",
       "      <td>0.000000e+00</td>\n",
       "      <td>0.0</td>\n",
       "      <td>0.000000e+00</td>\n",
       "    </tr>\n",
       "    <tr>\n",
       "      <th>MSFT</th>\n",
       "      <td>0.0</td>\n",
       "      <td>0.0</td>\n",
       "      <td>0.000000e+00</td>\n",
       "      <td>0.000000e+00</td>\n",
       "      <td>0.0</td>\n",
       "      <td>0.000000e+00</td>\n",
       "    </tr>\n",
       "    <tr>\n",
       "      <th>PEP</th>\n",
       "      <td>0.0</td>\n",
       "      <td>0.0</td>\n",
       "      <td>5.884182e-15</td>\n",
       "      <td>0.000000e+00</td>\n",
       "      <td>0.0</td>\n",
       "      <td>0.000000e+00</td>\n",
       "    </tr>\n",
       "  </tbody>\n",
       "</table>\n",
       "</div>"
      ],
      "text/plain": [
       "      AAPL  AMZN            GM            KO  MSFT           PEP\n",
       "AAPL   0.0   0.0  0.000000e+00  0.000000e+00   0.0  0.000000e+00\n",
       "AMZN   0.0   0.0  0.000000e+00  0.000000e+00   0.0  0.000000e+00\n",
       "GM     0.0   0.0  0.000000e+00  5.998286e-10   0.0  5.884182e-15\n",
       "KO     0.0   0.0  5.998286e-10  0.000000e+00   0.0  0.000000e+00\n",
       "MSFT   0.0   0.0  0.000000e+00  0.000000e+00   0.0  0.000000e+00\n",
       "PEP    0.0   0.0  5.884182e-15  0.000000e+00   0.0  0.000000e+00"
      ]
     },
     "execution_count": 49,
     "metadata": {},
     "output_type": "execute_result"
    }
   ],
   "source": [
    "ps=st.t.cdf(abs(ts), df=n-2)-st.t.cdf(-1*abs(ts), df=n-2)\n",
    "pd.DataFrame(1-ps, index=ts.index, columns=ts.columns)"
   ]
  },
  {
   "cell_type": "markdown",
   "metadata": {},
   "source": [
    "## Рассмотрим корреляции на меньшем окне"
   ]
  },
  {
   "cell_type": "markdown",
   "metadata": {},
   "source": [
    "На очень большом временном окне все корреляции оказались статистически значимыми. Нулевая гипотеза о равнестве коэффициента корреляции нулю была отвергнута. Рассмотрим, как ведут себя статистики на меньшем окне, 100 дней:"
   ]
  },
  {
   "cell_type": "code",
   "execution_count": 19,
   "metadata": {
    "collapsed": true
   },
   "outputs": [],
   "source": [
    "ts_window_100d=time_series.iloc[-100:,:]\n",
    "n=len(ts_window_100d)"
   ]
  },
  {
   "cell_type": "code",
   "execution_count": 21,
   "metadata": {},
   "outputs": [
    {
     "data": {
      "text/html": [
       "<div>\n",
       "<style scoped>\n",
       "    .dataframe tbody tr th:only-of-type {\n",
       "        vertical-align: middle;\n",
       "    }\n",
       "\n",
       "    .dataframe tbody tr th {\n",
       "        vertical-align: top;\n",
       "    }\n",
       "\n",
       "    .dataframe thead th {\n",
       "        text-align: right;\n",
       "    }\n",
       "</style>\n",
       "<table border=\"1\" class=\"dataframe\">\n",
       "  <thead>\n",
       "    <tr style=\"text-align: right;\">\n",
       "      <th></th>\n",
       "      <th>AAPL</th>\n",
       "      <th>AMZN</th>\n",
       "      <th>GM</th>\n",
       "      <th>KO</th>\n",
       "      <th>MSFT</th>\n",
       "      <th>PEP</th>\n",
       "    </tr>\n",
       "  </thead>\n",
       "  <tbody>\n",
       "    <tr>\n",
       "      <th>AAPL</th>\n",
       "      <td>1.000000</td>\n",
       "      <td>0.646157</td>\n",
       "      <td>0.096779</td>\n",
       "      <td>0.354672</td>\n",
       "      <td>0.751706</td>\n",
       "      <td>0.650498</td>\n",
       "    </tr>\n",
       "    <tr>\n",
       "      <th>AMZN</th>\n",
       "      <td>0.646157</td>\n",
       "      <td>1.000000</td>\n",
       "      <td>-0.000487</td>\n",
       "      <td>0.442234</td>\n",
       "      <td>0.963292</td>\n",
       "      <td>0.746837</td>\n",
       "    </tr>\n",
       "    <tr>\n",
       "      <th>GM</th>\n",
       "      <td>0.096779</td>\n",
       "      <td>-0.000487</td>\n",
       "      <td>1.000000</td>\n",
       "      <td>0.265261</td>\n",
       "      <td>0.083227</td>\n",
       "      <td>-0.118167</td>\n",
       "    </tr>\n",
       "    <tr>\n",
       "      <th>KO</th>\n",
       "      <td>0.354672</td>\n",
       "      <td>0.442234</td>\n",
       "      <td>0.265261</td>\n",
       "      <td>1.000000</td>\n",
       "      <td>0.514302</td>\n",
       "      <td>0.508349</td>\n",
       "    </tr>\n",
       "    <tr>\n",
       "      <th>MSFT</th>\n",
       "      <td>0.751706</td>\n",
       "      <td>0.963292</td>\n",
       "      <td>0.083227</td>\n",
       "      <td>0.514302</td>\n",
       "      <td>1.000000</td>\n",
       "      <td>0.743606</td>\n",
       "    </tr>\n",
       "    <tr>\n",
       "      <th>PEP</th>\n",
       "      <td>0.650498</td>\n",
       "      <td>0.746837</td>\n",
       "      <td>-0.118167</td>\n",
       "      <td>0.508349</td>\n",
       "      <td>0.743606</td>\n",
       "      <td>1.000000</td>\n",
       "    </tr>\n",
       "  </tbody>\n",
       "</table>\n",
       "</div>"
      ],
      "text/plain": [
       "          AAPL      AMZN        GM        KO      MSFT       PEP\n",
       "AAPL  1.000000  0.646157  0.096779  0.354672  0.751706  0.650498\n",
       "AMZN  0.646157  1.000000 -0.000487  0.442234  0.963292  0.746837\n",
       "GM    0.096779 -0.000487  1.000000  0.265261  0.083227 -0.118167\n",
       "KO    0.354672  0.442234  0.265261  1.000000  0.514302  0.508349\n",
       "MSFT  0.751706  0.963292  0.083227  0.514302  1.000000  0.743606\n",
       "PEP   0.650498  0.746837 -0.118167  0.508349  0.743606  1.000000"
      ]
     },
     "execution_count": 21,
     "metadata": {},
     "output_type": "execute_result"
    }
   ],
   "source": [
    "ts_window_100d.corr()"
   ]
  },
  {
   "cell_type": "code",
   "execution_count": 24,
   "metadata": {},
   "outputs": [
    {
     "data": {
      "text/html": [
       "<div>\n",
       "<style scoped>\n",
       "    .dataframe tbody tr th:only-of-type {\n",
       "        vertical-align: middle;\n",
       "    }\n",
       "\n",
       "    .dataframe tbody tr th {\n",
       "        vertical-align: top;\n",
       "    }\n",
       "\n",
       "    .dataframe thead th {\n",
       "        text-align: right;\n",
       "    }\n",
       "</style>\n",
       "<table border=\"1\" class=\"dataframe\">\n",
       "  <thead>\n",
       "    <tr style=\"text-align: right;\">\n",
       "      <th></th>\n",
       "      <th>AAPL</th>\n",
       "      <th>AMZN</th>\n",
       "      <th>GM</th>\n",
       "      <th>KO</th>\n",
       "      <th>MSFT</th>\n",
       "      <th>PEP</th>\n",
       "    </tr>\n",
       "  </thead>\n",
       "  <tbody>\n",
       "    <tr>\n",
       "      <th>AAPL</th>\n",
       "      <td>inf</td>\n",
       "      <td>8.381266</td>\n",
       "      <td>0.962581</td>\n",
       "      <td>3.755196</td>\n",
       "      <td>11.283604</td>\n",
       "      <td>8.478638</td>\n",
       "    </tr>\n",
       "    <tr>\n",
       "      <th>AMZN</th>\n",
       "      <td>8.381266</td>\n",
       "      <td>inf</td>\n",
       "      <td>-0.004816</td>\n",
       "      <td>4.881143</td>\n",
       "      <td>35.522238</td>\n",
       "      <td>11.117642</td>\n",
       "    </tr>\n",
       "    <tr>\n",
       "      <th>GM</th>\n",
       "      <td>0.962581</td>\n",
       "      <td>-0.004816</td>\n",
       "      <td>inf</td>\n",
       "      <td>2.723520</td>\n",
       "      <td>0.826778</td>\n",
       "      <td>-1.178051</td>\n",
       "    </tr>\n",
       "    <tr>\n",
       "      <th>KO</th>\n",
       "      <td>3.755196</td>\n",
       "      <td>4.881143</td>\n",
       "      <td>2.723520</td>\n",
       "      <td>inf</td>\n",
       "      <td>5.936661</td>\n",
       "      <td>5.843809</td>\n",
       "    </tr>\n",
       "    <tr>\n",
       "      <th>MSFT</th>\n",
       "      <td>11.283604</td>\n",
       "      <td>35.522238</td>\n",
       "      <td>0.826778</td>\n",
       "      <td>5.936661</td>\n",
       "      <td>inf</td>\n",
       "      <td>11.009772</td>\n",
       "    </tr>\n",
       "    <tr>\n",
       "      <th>PEP</th>\n",
       "      <td>8.478638</td>\n",
       "      <td>11.117642</td>\n",
       "      <td>-1.178051</td>\n",
       "      <td>5.843809</td>\n",
       "      <td>11.009772</td>\n",
       "      <td>inf</td>\n",
       "    </tr>\n",
       "  </tbody>\n",
       "</table>\n",
       "</div>"
      ],
      "text/plain": [
       "           AAPL       AMZN        GM        KO       MSFT        PEP\n",
       "AAPL        inf   8.381266  0.962581  3.755196  11.283604   8.478638\n",
       "AMZN   8.381266        inf -0.004816  4.881143  35.522238  11.117642\n",
       "GM     0.962581  -0.004816       inf  2.723520   0.826778  -1.178051\n",
       "KO     3.755196   4.881143  2.723520       inf   5.936661   5.843809\n",
       "MSFT  11.283604  35.522238  0.826778  5.936661        inf  11.009772\n",
       "PEP    8.478638  11.117642 -1.178051  5.843809  11.009772        inf"
      ]
     },
     "execution_count": 24,
     "metadata": {},
     "output_type": "execute_result"
    }
   ],
   "source": [
    "ts_100d=get_t_values(ts_window_100d.corr(), n)\n",
    "ts_100d"
   ]
  },
  {
   "cell_type": "markdown",
   "metadata": {},
   "source": [
    "p-values, при уровне значимости 0.05 корреляции оказались значимыми для всех пар, кроме как для GM-AAPL, GM-AMZN, GM-MSFT, GM-PEP."
   ]
  },
  {
   "cell_type": "code",
   "execution_count": 103,
   "metadata": {},
   "outputs": [
    {
     "data": {
      "text/html": [
       "<div>\n",
       "<style scoped>\n",
       "    .dataframe tbody tr th:only-of-type {\n",
       "        vertical-align: middle;\n",
       "    }\n",
       "\n",
       "    .dataframe tbody tr th {\n",
       "        vertical-align: top;\n",
       "    }\n",
       "\n",
       "    .dataframe thead th {\n",
       "        text-align: right;\n",
       "    }\n",
       "</style>\n",
       "<table border=\"1\" class=\"dataframe\">\n",
       "  <thead>\n",
       "    <tr style=\"text-align: right;\">\n",
       "      <th></th>\n",
       "      <th>AAPL</th>\n",
       "      <th>AMZN</th>\n",
       "      <th>GM</th>\n",
       "      <th>KO</th>\n",
       "      <th>MSFT</th>\n",
       "      <th>PEP</th>\n",
       "    </tr>\n",
       "  </thead>\n",
       "  <tbody>\n",
       "    <tr>\n",
       "      <th>AAPL</th>\n",
       "      <td>0.000000e+00</td>\n",
       "      <td>3.871348e-13</td>\n",
       "      <td>0.338127</td>\n",
       "      <td>2.939503e-04</td>\n",
       "      <td>0.000000e+00</td>\n",
       "      <td>2.390310e-13</td>\n",
       "    </tr>\n",
       "    <tr>\n",
       "      <th>AMZN</th>\n",
       "      <td>3.871348e-13</td>\n",
       "      <td>0.000000e+00</td>\n",
       "      <td>0.996167</td>\n",
       "      <td>4.093706e-06</td>\n",
       "      <td>0.000000e+00</td>\n",
       "      <td>0.000000e+00</td>\n",
       "    </tr>\n",
       "    <tr>\n",
       "      <th>GM</th>\n",
       "      <td>3.381272e-01</td>\n",
       "      <td>9.961669e-01</td>\n",
       "      <td>0.000000</td>\n",
       "      <td>7.648064e-03</td>\n",
       "      <td>4.103714e-01</td>\n",
       "      <td>2.416291e-01</td>\n",
       "    </tr>\n",
       "    <tr>\n",
       "      <th>KO</th>\n",
       "      <td>2.939503e-04</td>\n",
       "      <td>4.093706e-06</td>\n",
       "      <td>0.007648</td>\n",
       "      <td>0.000000e+00</td>\n",
       "      <td>4.415746e-08</td>\n",
       "      <td>6.685540e-08</td>\n",
       "    </tr>\n",
       "    <tr>\n",
       "      <th>MSFT</th>\n",
       "      <td>0.000000e+00</td>\n",
       "      <td>0.000000e+00</td>\n",
       "      <td>0.410371</td>\n",
       "      <td>4.415746e-08</td>\n",
       "      <td>0.000000e+00</td>\n",
       "      <td>0.000000e+00</td>\n",
       "    </tr>\n",
       "    <tr>\n",
       "      <th>PEP</th>\n",
       "      <td>2.390310e-13</td>\n",
       "      <td>0.000000e+00</td>\n",
       "      <td>0.241629</td>\n",
       "      <td>6.685540e-08</td>\n",
       "      <td>0.000000e+00</td>\n",
       "      <td>0.000000e+00</td>\n",
       "    </tr>\n",
       "  </tbody>\n",
       "</table>\n",
       "</div>"
      ],
      "text/plain": [
       "              AAPL          AMZN        GM            KO          MSFT  \\\n",
       "AAPL  0.000000e+00  3.871348e-13  0.338127  2.939503e-04  0.000000e+00   \n",
       "AMZN  3.871348e-13  0.000000e+00  0.996167  4.093706e-06  0.000000e+00   \n",
       "GM    3.381272e-01  9.961669e-01  0.000000  7.648064e-03  4.103714e-01   \n",
       "KO    2.939503e-04  4.093706e-06  0.007648  0.000000e+00  4.415746e-08   \n",
       "MSFT  0.000000e+00  0.000000e+00  0.410371  4.415746e-08  0.000000e+00   \n",
       "PEP   2.390310e-13  0.000000e+00  0.241629  6.685540e-08  0.000000e+00   \n",
       "\n",
       "               PEP  \n",
       "AAPL  2.390310e-13  \n",
       "AMZN  0.000000e+00  \n",
       "GM    2.416291e-01  \n",
       "KO    6.685540e-08  \n",
       "MSFT  0.000000e+00  \n",
       "PEP   0.000000e+00  "
      ]
     },
     "execution_count": 103,
     "metadata": {},
     "output_type": "execute_result"
    }
   ],
   "source": [
    "p100=pd.DataFrame(1-(st.t.cdf(abs(ts_100d), df=n-2)-st.t.cdf(-1*abs(ts_100d), df=n-2)), index=ts_100d.index, columns=ts_100d.columns)\n",
    "p100"
   ]
  },
  {
   "cell_type": "markdown",
   "metadata": {},
   "source": [
    "Также для распределения из модуля scipy.stats существует метод .ppf, позволяющий получить критические значения статистик. В данном анализе он не используется, приведен для демонстрации."
   ]
  },
  {
   "cell_type": "code",
   "execution_count": 31,
   "metadata": {},
   "outputs": [
    {
     "name": "stdout",
     "output_type": "stream",
     "text": [
      "1.984467454426692\n",
      "-1.9844674544266925\n"
     ]
    }
   ],
   "source": [
    "print(st.t.ppf(0.975,df=n-2))\n",
    "print(st.t.ppf(0.025,df=n-2))"
   ]
  },
  {
   "cell_type": "code",
   "execution_count": 61,
   "metadata": {
    "collapsed": true
   },
   "outputs": [],
   "source": [
    "def normalize(ts):\n",
    "    t_mean=ts.mean()\n",
    "    t_std=ts.std(ddof=1)\n",
    "    norm_ts=(ts-t_mean)/t_std\n",
    "    return norm_ts\n",
    "\n",
    "def min_max_scale(ts):\n",
    "    t_max=np.max(ts)\n",
    "    t_min=np.min(ts)\n",
    "    scaled=(ts-t_min)/(t_max-t_min)\n",
    "    return scaled"
   ]
  },
  {
   "cell_type": "markdown",
   "metadata": {},
   "source": [
    "Построим график двух наиболее коррелирующих случайных величин: цен на акции Microsoft и Amazon."
   ]
  },
  {
   "cell_type": "code",
   "execution_count": 64,
   "metadata": {},
   "outputs": [
    {
     "data": {
      "image/png": "[encoded data removed]",
      "text/plain": [
       "<Figure size 720x504 with 1 Axes>"
      ]
     },
     "metadata": {},
     "output_type": "display_data"
    }
   ],
   "source": [
    "plt.plot(min_max_scale(ts_window_100d['MSFT']))\n",
    "plt.plot(min_max_scale(ts_window_100d['AMZN']))\n",
    "_=plt.xlabel('Months')\n",
    "_=plt.ylabel('Price Scaled')"
   ]
  },
  {
   "cell_type": "markdown",
   "metadata": {},
   "source": [
    "Попробуем отрисовать цветную таблицу, где зеленым будут обозначенный значимые коэффициенты:"
   ]
  },
  {
   "cell_type": "code",
   "execution_count": 70,
   "metadata": {
    "collapsed": true
   },
   "outputs": [],
   "source": [
    "alpha=0.05\n",
    "colors = p100.applymap(lambda x: 'green' if x<= alpha else 'red').reset_index().drop(['index'], axis=1)"
   ]
  },
  {
   "cell_type": "code",
   "execution_count": 102,
   "metadata": {},
   "outputs": [
    {
     "data": {
      "text/plain": [
       "<matplotlib.table.Table at 0x28a45004da0>"
      ]
     },
     "execution_count": 102,
     "metadata": {},
     "output_type": "execute_result"
    },
    {
     "data": {
      "image/png": "[encoded data removed]",
      "text/plain": [
       "<Figure size 1440x1440 with 1 Axes>"
      ]
     },
     "metadata": {},
     "output_type": "display_data"
    }
   ],
   "source": [
    "from pandas.plotting import table\n",
    "plt.figure(figsize=[20, 20]) \n",
    "ax = plt.subplot(111, frame_on=False)\n",
    "ax.xaxis.set_visible(False)\n",
    "ax.yaxis.set_visible(False)\n",
    "table(ax, ts_window_100d.corr(), rowLabels=ts_window_100d.corr().index, colLabels=ts_window_100d.corr().columns, \n",
    "      loc='center', cellColours=colors.values)"
   ]
  },
  {
   "cell_type": "code",
   "execution_count": null,
   "metadata": {
    "collapsed": true
   },
   "outputs": [],
   "source": []
  }
 ],
 "metadata": {
  "kernelspec": {
   "display_name": "Python 3",
   "language": "python",
   "name": "python3"
  },
  "language_info": {
   "codemirror_mode": {
    "name": "ipython",
    "version": 3
   },
   "file_extension": ".py",
   "mimetype": "text/x-python",
   "name": "python",
   "nbconvert_exporter": "python",
   "pygments_lexer": "ipython3",
   "version": "3.6.2"
  }
 },
 "nbformat": 4,
 "nbformat_minor": 2
}
